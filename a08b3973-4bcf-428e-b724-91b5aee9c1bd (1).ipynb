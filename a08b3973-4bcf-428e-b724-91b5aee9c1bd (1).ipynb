{
 "cells": [
  {
   "cell_type": "markdown",
   "metadata": {
    "toc": true
   },
   "source": [
    "<h1>Table of Contents<span class=\"tocSkip\"></span></h1>\n",
    "<div class=\"toc\"><ul class=\"toc-item\"><li><span><a href=\"#Descarga-los-datos-y-prepáralos-para-el-análisis\" data-toc-modified-id=\"Descarga-los-datos-y-prepáralos-para-el-análisis-1\"><span class=\"toc-item-num\">1&nbsp;&nbsp;</span>Descarga los datos y prepáralos para el análisis</a></span></li><li><span><a href=\"#Descripción-de-los-datos\" data-toc-modified-id=\"Descripción-de-los-datos-2\"><span class=\"toc-item-num\">2&nbsp;&nbsp;</span>Descripción de los datos</a></span></li><li><span><a href=\"#Informes-y-cálculos-de-métricas\" data-toc-modified-id=\"Informes-y-cálculos-de-métricas-3\"><span class=\"toc-item-num\">3&nbsp;&nbsp;</span>Informes y cálculos de métricas</a></span></li><li><span><a href=\"#Conclusiones\" data-toc-modified-id=\"Conclusiones-4\"><span class=\"toc-item-num\">4&nbsp;&nbsp;</span>Conclusiones</a></span></li></ul></div>"
   ]
  },
  {
   "cell_type": "markdown",
   "metadata": {},
   "source": [
    "# Descricpión del proyecto"
   ]
  },
  {
   "cell_type": "markdown",
   "metadata": {},
   "source": [
    "Mi nombre es Guillermo Valdespino y soy un analista en el departamento analítico de Y.Afisha. En este proyecto, mi objetivo es optimizar los gastos de marketing de nuestra empresa. A través del análisis de los registros del servidor, los datos de visitas a Y.Afisha y las estadísticas de gastos de marketing, investigaré cómo los usuarios utilizan nuestro producto, cuándo comienzan a realizar compras, cuánto dinero generan y cuándo realizan los pagos.\n",
    "\n",
    "**Instrucciones para completar el proyecto**\n",
    "\n",
    "- Paso 1. Descarga los datos y prepáralos para el análisis\n",
    "Almacena los datos de visitas, pedidos y gastos en variables. Optimiza los datos para el análisis. Asegúrate de que cada columna contenga el tipo de datos correcto.\n",
    "\n",
    "\n",
    "Rutas de archivos:\n",
    "\n",
    "1. /datasets/visits_log_us.csv. Descarga el dataset\n",
    "2. /datasets/orders_log_us.csv. Descarga el dataset\n",
    "3. /datasets/costs_us.csv. Descarga el dataset\n",
    "\n",
    "\n",
    "- Paso 2. Haz informes y calcula métricas\n",
    "\n",
    "**Producto:**\n",
    "¿Cuántas personas lo usan cada día, semana y mes?\n",
    "¿Cuántas sesiones hay por día? (Un/a usuario/a puede tener más de una sesión).\n",
    "¿Cuál es la duración de cada sesión?\n",
    "¿Con qué frecuencia los usuarios y las usuarias regresan?\n",
    "\n",
    "**Ventas:**\n",
    "¿Cuándo la gente empieza a comprar? (En el análisis de KPI, generalmente nos interesa saber el tiempo que transcurre entre el registro y la conversión, es decir, cuando el/la usuario/a se convierte en cliente. Por ejemplo, si el registro y la primera compra ocurren el mismo día, el/la usuario/a podría caer en la categoría Conversion 0d. Si la primera compra ocurre al día siguiente, será Conversion 1d. Puedes usar cualquier enfoque que te permita comparar las conversiones de diferentes cohortes para que puedas determinar qué cohorte o canal de marketing es más efectivo).\n",
    "¿Cuántos pedidos hacen durante un período de tiempo dado?\n",
    "¿Cuál es el tamaño promedio de compra?\n",
    "¿Cuánto dinero traen? (LTV)\n",
    "\n",
    "**Marketing:**\n",
    "¿Cuánto dinero se gastó? (Total/por fuente/a lo largo del tiempo)\n",
    "¿Cuánto costó la adquisición de clientes de cada una de las fuentes?\n",
    "¿Cuán rentables eran las inversiones? (ROI)\n",
    "Traza gráficos para mostrar cómo difieren estas métricas para varios dispositivos y fuentes de anuncios y cómo cambian con el tiempo.\n",
    "\n",
    "- Paso 3. Escribe una conclusión: aconseja a los expertos de marketing cuánto dinero invertir y dónde\n",
    "¿Qué fuentes/plataformas recomendarías? Fundamenta tu selección: ¿en qué métricas te enfocaste? ¿Por qué? ¿Qué conclusiones sacaste después de encontrar los valores métricos?"
   ]
  },
  {
   "cell_type": "markdown",
   "metadata": {},
   "source": [
    "## Descarga los datos y prepáralos para el análisis"
   ]
  },
  {
   "cell_type": "markdown",
   "metadata": {},
   "source": [
    "Vamos a almacenar los datos de visitas, pedidos y gastos en variables. Después vamos a optimizar los datos para el análisis. Tenemos que asegurarnos que cada columna contenga el tipo de datos correcto.\n",
    "\n",
    "Rutas de archivos:\n",
    "\n",
    "- /datasets/visits_log_us.csv\n",
    "- /datasets/orders_log_us.csv\n",
    "- /datasets/costs_us.csv"
   ]
  },
  {
   "cell_type": "code",
   "execution_count": 1,
   "metadata": {},
   "outputs": [],
   "source": [
    "# Impotamos las librerías\n",
    "import pandas as pd\n",
    "import numpy as np \n",
    "import seaborn as sns\n",
    "from scipy import stats as st\n",
    "from matplotlib import pyplot as plt"
   ]
  },
  {
   "cell_type": "markdown",
   "metadata": {},
   "source": [
    "Para reducir el valor de **'memory usage'** de nuestros Dataframes, vamos a llamar a los archivos junto con los datos especificos para cada Dataframe.\n",
    "\n",
    "Para el Dataframe **'visits'**:\n",
    "- columna 'Device' = category type\n",
    "- columnas 'End Ts' y 'Start Ts' = datetime type\n",
    "\n",
    "Para el Dataframe **'orders'**:\n",
    "- columna 'Buy Ts' = datetime type\n",
    "\n",
    "Para el Dataframe **'costs'**:\n",
    "- columna 'dt' = datetime type"
   ]
  },
  {
   "cell_type": "code",
   "execution_count": 2,
   "metadata": {},
   "outputs": [],
   "source": [
    "# Cargamos los archivos de datos en DataFrames\n",
    "visits = pd.read_csv('/datasets/visits_log_us.csv', dtype = {'Device': 'category'}, parse_dates = ['End Ts', 'Start Ts'])\n",
    "orders = pd.read_csv('/datasets/orders_log_us.csv', parse_dates = ['Buy Ts'])\n",
    "costs = pd.read_csv('/datasets/costs_us.csv', parse_dates = ['dt'])"
   ]
  },
  {
   "cell_type": "code",
   "execution_count": 3,
   "metadata": {},
   "outputs": [
    {
     "name": "stdout",
     "output_type": "stream",
     "text": [
      "<class 'pandas.core.frame.DataFrame'>\n",
      "RangeIndex: 359400 entries, 0 to 359399\n",
      "Data columns (total 5 columns):\n",
      " #   Column     Non-Null Count   Dtype         \n",
      "---  ------     --------------   -----         \n",
      " 0   Device     359400 non-null  category      \n",
      " 1   End Ts     359400 non-null  datetime64[ns]\n",
      " 2   Source Id  359400 non-null  int64         \n",
      " 3   Start Ts   359400 non-null  datetime64[ns]\n",
      " 4   Uid        359400 non-null  uint64        \n",
      "dtypes: category(1), datetime64[ns](2), int64(1), uint64(1)\n",
      "memory usage: 11.3 MB\n",
      "None\n",
      "****************************************\n",
      "<class 'pandas.core.frame.DataFrame'>\n",
      "RangeIndex: 50415 entries, 0 to 50414\n",
      "Data columns (total 3 columns):\n",
      " #   Column   Non-Null Count  Dtype         \n",
      "---  ------   --------------  -----         \n",
      " 0   Buy Ts   50415 non-null  datetime64[ns]\n",
      " 1   Revenue  50415 non-null  float64       \n",
      " 2   Uid      50415 non-null  uint64        \n",
      "dtypes: datetime64[ns](1), float64(1), uint64(1)\n",
      "memory usage: 1.2 MB\n",
      "None\n",
      "****************************************\n",
      "<class 'pandas.core.frame.DataFrame'>\n",
      "RangeIndex: 2542 entries, 0 to 2541\n",
      "Data columns (total 3 columns):\n",
      " #   Column     Non-Null Count  Dtype         \n",
      "---  ------     --------------  -----         \n",
      " 0   source_id  2542 non-null   int64         \n",
      " 1   dt         2542 non-null   datetime64[ns]\n",
      " 2   costs      2542 non-null   float64       \n",
      "dtypes: datetime64[ns](1), float64(1), int64(1)\n",
      "memory usage: 59.7 KB\n",
      "None\n"
     ]
    }
   ],
   "source": [
    "# Veamos la información general de nuestros Dataframes y corroboramos el tipo de datos\n",
    "print(visits.info())\n",
    "print('*'*40)\n",
    "print(orders.info())\n",
    "print('*'*40)\n",
    "print(costs.info())"
   ]
  },
  {
   "cell_type": "markdown",
   "metadata": {},
   "source": [
    "Podemos ver que el tipo de datos de nuestros Dataframes son adecuados, ahora vamos a analizar y describir cada Dataframe."
   ]
  },
  {
   "cell_type": "markdown",
   "metadata": {},
   "source": [
    "## Descripción de los datos"
   ]
  },
  {
   "cell_type": "code",
   "execution_count": 4,
   "metadata": {},
   "outputs": [
    {
     "data": {
      "text/html": [
       "<div>\n",
       "<style scoped>\n",
       "    .dataframe tbody tr th:only-of-type {\n",
       "        vertical-align: middle;\n",
       "    }\n",
       "\n",
       "    .dataframe tbody tr th {\n",
       "        vertical-align: top;\n",
       "    }\n",
       "\n",
       "    .dataframe thead th {\n",
       "        text-align: right;\n",
       "    }\n",
       "</style>\n",
       "<table border=\"1\" class=\"dataframe\">\n",
       "  <thead>\n",
       "    <tr style=\"text-align: right;\">\n",
       "      <th></th>\n",
       "      <th>Device</th>\n",
       "      <th>End Ts</th>\n",
       "      <th>Source Id</th>\n",
       "      <th>Start Ts</th>\n",
       "      <th>Uid</th>\n",
       "    </tr>\n",
       "  </thead>\n",
       "  <tbody>\n",
       "    <tr>\n",
       "      <th>0</th>\n",
       "      <td>touch</td>\n",
       "      <td>2017-12-20 17:38:00</td>\n",
       "      <td>4</td>\n",
       "      <td>2017-12-20 17:20:00</td>\n",
       "      <td>16879256277535980062</td>\n",
       "    </tr>\n",
       "    <tr>\n",
       "      <th>1</th>\n",
       "      <td>desktop</td>\n",
       "      <td>2018-02-19 17:21:00</td>\n",
       "      <td>2</td>\n",
       "      <td>2018-02-19 16:53:00</td>\n",
       "      <td>104060357244891740</td>\n",
       "    </tr>\n",
       "    <tr>\n",
       "      <th>2</th>\n",
       "      <td>touch</td>\n",
       "      <td>2017-07-01 01:54:00</td>\n",
       "      <td>5</td>\n",
       "      <td>2017-07-01 01:54:00</td>\n",
       "      <td>7459035603376831527</td>\n",
       "    </tr>\n",
       "    <tr>\n",
       "      <th>3</th>\n",
       "      <td>desktop</td>\n",
       "      <td>2018-05-20 11:23:00</td>\n",
       "      <td>9</td>\n",
       "      <td>2018-05-20 10:59:00</td>\n",
       "      <td>16174680259334210214</td>\n",
       "    </tr>\n",
       "    <tr>\n",
       "      <th>4</th>\n",
       "      <td>desktop</td>\n",
       "      <td>2017-12-27 14:06:00</td>\n",
       "      <td>3</td>\n",
       "      <td>2017-12-27 14:06:00</td>\n",
       "      <td>9969694820036681168</td>\n",
       "    </tr>\n",
       "  </tbody>\n",
       "</table>\n",
       "</div>"
      ],
      "text/plain": [
       "    Device              End Ts  Source Id            Start Ts  \\\n",
       "0    touch 2017-12-20 17:38:00          4 2017-12-20 17:20:00   \n",
       "1  desktop 2018-02-19 17:21:00          2 2018-02-19 16:53:00   \n",
       "2    touch 2017-07-01 01:54:00          5 2017-07-01 01:54:00   \n",
       "3  desktop 2018-05-20 11:23:00          9 2018-05-20 10:59:00   \n",
       "4  desktop 2017-12-27 14:06:00          3 2017-12-27 14:06:00   \n",
       "\n",
       "                    Uid  \n",
       "0  16879256277535980062  \n",
       "1    104060357244891740  \n",
       "2   7459035603376831527  \n",
       "3  16174680259334210214  \n",
       "4   9969694820036681168  "
      ]
     },
     "execution_count": 4,
     "metadata": {},
     "output_type": "execute_result"
    }
   ],
   "source": [
    "# Dataframe 'visits'\n",
    "visits.head()"
   ]
  },
  {
   "cell_type": "markdown",
   "metadata": {},
   "source": [
    "La tabla visits (registros del servidor con datos sobre las visitas al sitio web):\n",
    "\n",
    "- Uid: identificador único del usuario;\n",
    "- Device: dispositivo del usuario;\n",
    "- Start Ts: fecha y hora de inicio de la sesión;\n",
    "- End Ts: fecha y hora de término de la sesión;\n",
    "- Source Id: identificador de la fuente de anuncios de la que proviene el usuario."
   ]
  },
  {
   "cell_type": "code",
   "execution_count": 5,
   "metadata": {},
   "outputs": [
    {
     "data": {
      "text/html": [
       "<div>\n",
       "<style scoped>\n",
       "    .dataframe tbody tr th:only-of-type {\n",
       "        vertical-align: middle;\n",
       "    }\n",
       "\n",
       "    .dataframe tbody tr th {\n",
       "        vertical-align: top;\n",
       "    }\n",
       "\n",
       "    .dataframe thead th {\n",
       "        text-align: right;\n",
       "    }\n",
       "</style>\n",
       "<table border=\"1\" class=\"dataframe\">\n",
       "  <thead>\n",
       "    <tr style=\"text-align: right;\">\n",
       "      <th></th>\n",
       "      <th>Buy Ts</th>\n",
       "      <th>Revenue</th>\n",
       "      <th>Uid</th>\n",
       "    </tr>\n",
       "  </thead>\n",
       "  <tbody>\n",
       "    <tr>\n",
       "      <th>0</th>\n",
       "      <td>2017-06-01 00:10:00</td>\n",
       "      <td>17.00</td>\n",
       "      <td>10329302124590727494</td>\n",
       "    </tr>\n",
       "    <tr>\n",
       "      <th>1</th>\n",
       "      <td>2017-06-01 00:25:00</td>\n",
       "      <td>0.55</td>\n",
       "      <td>11627257723692907447</td>\n",
       "    </tr>\n",
       "    <tr>\n",
       "      <th>2</th>\n",
       "      <td>2017-06-01 00:27:00</td>\n",
       "      <td>0.37</td>\n",
       "      <td>17903680561304213844</td>\n",
       "    </tr>\n",
       "    <tr>\n",
       "      <th>3</th>\n",
       "      <td>2017-06-01 00:29:00</td>\n",
       "      <td>0.55</td>\n",
       "      <td>16109239769442553005</td>\n",
       "    </tr>\n",
       "    <tr>\n",
       "      <th>4</th>\n",
       "      <td>2017-06-01 07:58:00</td>\n",
       "      <td>0.37</td>\n",
       "      <td>14200605875248379450</td>\n",
       "    </tr>\n",
       "  </tbody>\n",
       "</table>\n",
       "</div>"
      ],
      "text/plain": [
       "               Buy Ts  Revenue                   Uid\n",
       "0 2017-06-01 00:10:00    17.00  10329302124590727494\n",
       "1 2017-06-01 00:25:00     0.55  11627257723692907447\n",
       "2 2017-06-01 00:27:00     0.37  17903680561304213844\n",
       "3 2017-06-01 00:29:00     0.55  16109239769442553005\n",
       "4 2017-06-01 07:58:00     0.37  14200605875248379450"
      ]
     },
     "execution_count": 5,
     "metadata": {},
     "output_type": "execute_result"
    }
   ],
   "source": [
    "# Dataframe 'orders'\n",
    "orders.head()"
   ]
  },
  {
   "cell_type": "markdown",
   "metadata": {},
   "source": [
    "La tabla orders (datos sobre pedidos):\n",
    "\n",
    "- Uid: identificador único del usuario que realiza un pedido;\n",
    "- Buy Ts: fecha y hora del pedido;\n",
    "- Revenue: ingresos de Y.Afisha de este pedido."
   ]
  },
  {
   "cell_type": "code",
   "execution_count": 6,
   "metadata": {},
   "outputs": [
    {
     "data": {
      "text/html": [
       "<div>\n",
       "<style scoped>\n",
       "    .dataframe tbody tr th:only-of-type {\n",
       "        vertical-align: middle;\n",
       "    }\n",
       "\n",
       "    .dataframe tbody tr th {\n",
       "        vertical-align: top;\n",
       "    }\n",
       "\n",
       "    .dataframe thead th {\n",
       "        text-align: right;\n",
       "    }\n",
       "</style>\n",
       "<table border=\"1\" class=\"dataframe\">\n",
       "  <thead>\n",
       "    <tr style=\"text-align: right;\">\n",
       "      <th></th>\n",
       "      <th>source_id</th>\n",
       "      <th>dt</th>\n",
       "      <th>costs</th>\n",
       "    </tr>\n",
       "  </thead>\n",
       "  <tbody>\n",
       "    <tr>\n",
       "      <th>0</th>\n",
       "      <td>1</td>\n",
       "      <td>2017-06-01</td>\n",
       "      <td>75.20</td>\n",
       "    </tr>\n",
       "    <tr>\n",
       "      <th>1</th>\n",
       "      <td>1</td>\n",
       "      <td>2017-06-02</td>\n",
       "      <td>62.25</td>\n",
       "    </tr>\n",
       "    <tr>\n",
       "      <th>2</th>\n",
       "      <td>1</td>\n",
       "      <td>2017-06-03</td>\n",
       "      <td>36.53</td>\n",
       "    </tr>\n",
       "    <tr>\n",
       "      <th>3</th>\n",
       "      <td>1</td>\n",
       "      <td>2017-06-04</td>\n",
       "      <td>55.00</td>\n",
       "    </tr>\n",
       "    <tr>\n",
       "      <th>4</th>\n",
       "      <td>1</td>\n",
       "      <td>2017-06-05</td>\n",
       "      <td>57.08</td>\n",
       "    </tr>\n",
       "  </tbody>\n",
       "</table>\n",
       "</div>"
      ],
      "text/plain": [
       "   source_id         dt  costs\n",
       "0          1 2017-06-01  75.20\n",
       "1          1 2017-06-02  62.25\n",
       "2          1 2017-06-03  36.53\n",
       "3          1 2017-06-04  55.00\n",
       "4          1 2017-06-05  57.08"
      ]
     },
     "execution_count": 6,
     "metadata": {},
     "output_type": "execute_result"
    }
   ],
   "source": [
    "# Dataframe 'costs'\n",
    "costs.head()"
   ]
  },
  {
   "cell_type": "markdown",
   "metadata": {},
   "source": [
    "La tabla costs (datos sobre gastos de marketing):\n",
    "\n",
    "- source_id: identificador de la fuente de anuncios\n",
    "- dt: fecha;\n",
    "- costs: gastos en esta fuente de anuncios en este día."
   ]
  },
  {
   "cell_type": "markdown",
   "metadata": {},
   "source": [
    "Ahora vamos a analizar nuestros Dataframes para prepararlos para el análisis"
   ]
  },
  {
   "cell_type": "code",
   "execution_count": 7,
   "metadata": {},
   "outputs": [
    {
     "name": "stdout",
     "output_type": "stream",
     "text": [
      "Device       False\n",
      "End Ts       False\n",
      "Source Id    False\n",
      "Start Ts     False\n",
      "Uid          False\n",
      "dtype: bool\n",
      "********************\n",
      "Buy Ts     False\n",
      "Revenue    False\n",
      "Uid        False\n",
      "dtype: bool\n",
      "********************\n",
      "source_id    False\n",
      "dt           False\n",
      "costs        False\n",
      "dtype: bool\n"
     ]
    }
   ],
   "source": [
    "# Buscamos valores nulos\n",
    "print(visits.isnull().any())\n",
    "print('*'*20)\n",
    "print(orders.isnull().any())\n",
    "print('*'*20)\n",
    "print(costs.isnull().any())"
   ]
  },
  {
   "cell_type": "code",
   "execution_count": 8,
   "metadata": {},
   "outputs": [
    {
     "name": "stdout",
     "output_type": "stream",
     "text": [
      "False\n",
      "********************\n",
      "False\n",
      "********************\n",
      "False\n"
     ]
    }
   ],
   "source": [
    "# Buscamos valores duplicados\n",
    "print(visits.duplicated().any())\n",
    "print('*'*20)\n",
    "print(orders.duplicated().any())\n",
    "print('*'*20)\n",
    "print(costs.duplicated().any())"
   ]
  },
  {
   "cell_type": "code",
   "execution_count": 9,
   "metadata": {},
   "outputs": [
    {
     "data": {
      "text/plain": [
       "desktop    262567\n",
       "touch       96833\n",
       "Name: Device, dtype: int64"
      ]
     },
     "execution_count": 9,
     "metadata": {},
     "output_type": "execute_result"
    }
   ],
   "source": [
    "# Veamos cuantas categorias tenemos en 'visits'\n",
    "visits['Device'].value_counts()"
   ]
  },
  {
   "cell_type": "markdown",
   "metadata": {},
   "source": [
    "## Informes y cálculos de métricas\n",
    "\n",
    "1. **Producto:**\n",
    "- ¿Cuántas personas lo usan cada día, semana y mes?\n",
    "- ¿Cuántas sesiones hay por día? (Un/a usuario/a puede tener más de una sesión).\n",
    "- ¿Cuál es la duración de cada sesión?\n",
    "- ¿Con qué frecuencia los usuarios y las usuarias regresan?"
   ]
  },
  {
   "cell_type": "code",
   "execution_count": 10,
   "metadata": {},
   "outputs": [
    {
     "name": "stdout",
     "output_type": "stream",
     "text": [
      "Users per day: 907\n",
      "Users per week: 5825\n",
      "Users per month: 23228\n"
     ]
    }
   ],
   "source": [
    "# ¿Cuántas personas lo usan cada día, semana y mes?\n",
    "visits['session_year'] = visits['Start Ts'].dt.year\n",
    "visits['session_month'] = visits['Start Ts'].dt.month\n",
    "visits['session_week'] = visits['Start Ts'].dt.isocalendar().week\n",
    "visits['session_date'] = visits['Start Ts'].dt.date\n",
    "\n",
    "dau_total = visits.groupby('session_date').agg({'Uid': 'nunique'}).mean()\n",
    "wau_total = visits.groupby(['session_week']).agg({'Uid': 'nunique'}).mean()\n",
    "mau_total = visits.groupby(['session_month']).agg({'Uid': 'nunique'}).mean()\n",
    "print('Users per day:', int(dau_total))\n",
    "print('Users per week:', int(wau_total))\n",
    "print('Users per month:', int(mau_total))"
   ]
  },
  {
   "cell_type": "markdown",
   "metadata": {},
   "source": [
    "Para resolver esta pregunta, utilizamos las métricas 'DAU', 'MAU' Y 'WAU' junto con las claves unicas de cada cliente para contar las personas que utilizan el producto, sin que estos se repitan."
   ]
  },
  {
   "cell_type": "code",
   "execution_count": 11,
   "metadata": {},
   "outputs": [
    {
     "name": "stdout",
     "output_type": "stream",
     "text": [
      "Average day sessions: 987\n"
     ]
    }
   ],
   "source": [
    "#¿Cuántas sesiones hay por día? (Un/a usuario/a puede tener más de una sesión).\n",
    "day_sessions = visits.groupby('session_date').agg({'Uid': 'count'}).mean()\n",
    "print('Average day sessions:', int(day_sessions))"
   ]
  },
  {
   "cell_type": "markdown",
   "metadata": {},
   "source": [
    "Con este código podemos contemplar los inicios de sesión de usuarios, aunque estos se repitan."
   ]
  },
  {
   "cell_type": "code",
   "execution_count": 12,
   "metadata": {},
   "outputs": [
    {
     "name": "stdout",
     "output_type": "stream",
     "text": [
      "Average duration session: 10.72 minutes\n"
     ]
    }
   ],
   "source": [
    "# ¿Cuál es la duración de cada sesión?\n",
    "visits['session_duration'] = (visits['End Ts'] - visits['Start Ts']).dt.total_seconds()/60\n",
    "session_duration_avg = visits['session_duration'].mean()\n",
    "print('Average duration session:', round(session_duration_avg, 2), 'minutes')"
   ]
  },
  {
   "cell_type": "markdown",
   "metadata": {},
   "source": [
    "Podemos ver que la duración promedio de cada sesión es de 10 minutos, parece un tiempo adecuado para poder analizar los productos de la página y tomar una desición."
   ]
  },
  {
   "cell_type": "code",
   "execution_count": 13,
   "metadata": {},
   "outputs": [
    {
     "name": "stdout",
     "output_type": "stream",
     "text": [
      "Sticky Wau: 15.59 %\n",
      "Sticky Mau: 3.91 %\n"
     ]
    }
   ],
   "source": [
    "# ¿Con qué frecuencia los usuarios y las usuarias regresan?\n",
    "sticky_wau = dau_total / wau_total * 100\n",
    "sticky_mau = dau_total / mau_total * 100\n",
    "print('Sticky Wau:',\"%.2f\" % sticky_wau, '%')\n",
    "print('Sticky Mau:',\"%.2f\" % sticky_mau, '%')"
   ]
  },
  {
   "cell_type": "markdown",
   "metadata": {},
   "source": [
    "Las métricas **'Sticky Wau'** y **'Sticky Mau'** representan el porcentaje de usuarios activos diarios en comparación con los usuarios activos semanales y mensuales, respectivamente. Indican qué tan comprometidos y constantes son los usuarios en términos de uso continuo del producto, los cuales no son tan buenos como nos gustaría. Necesitamos mejorar estos datos."
   ]
  },
  {
   "cell_type": "markdown",
   "metadata": {},
   "source": [
    "2. **Ventas:**\n",
    "- ¿Cuándo la gente empieza a comprar? (En el análisis de KPI, generalmente nos interesa saber el tiempo que transcurre entre el registro y la conversión, es decir, cuando el/la usuario/a se convierte en cliente. Por ejemplo, si el registro y la primera compra ocurren el mismo día, el/la usuario/a podría caer en la categoría Conversion 0d. Si la primera compra ocurre al día siguiente, será Conversion 1d. Puedes usar cualquier enfoque que te permita comparar las conversiones de diferentes cohortes para que puedas determinar qué cohorte o canal de marketing es más efectivo).\n",
    "- ¿Cuántos pedidos hacen durante un período de tiempo dado?\n",
    "- ¿Cuál es el tamaño promedio de compra?\n",
    "- ¿Cuánto dinero traen? (LTV)"
   ]
  },
  {
   "cell_type": "code",
   "execution_count": 14,
   "metadata": {},
   "outputs": [
    {
     "data": {
      "text/html": [
       "<div>\n",
       "<style scoped>\n",
       "    .dataframe tbody tr th:only-of-type {\n",
       "        vertical-align: middle;\n",
       "    }\n",
       "\n",
       "    .dataframe tbody tr th {\n",
       "        vertical-align: top;\n",
       "    }\n",
       "\n",
       "    .dataframe thead th {\n",
       "        text-align: right;\n",
       "    }\n",
       "</style>\n",
       "<table border=\"1\" class=\"dataframe\">\n",
       "  <thead>\n",
       "    <tr style=\"text-align: right;\">\n",
       "      <th></th>\n",
       "      <th>Buy Ts</th>\n",
       "      <th>Revenue</th>\n",
       "      <th>Uid</th>\n",
       "      <th>first_purchase_datetime</th>\n",
       "    </tr>\n",
       "  </thead>\n",
       "  <tbody>\n",
       "    <tr>\n",
       "      <th>0</th>\n",
       "      <td>2017-06-01 00:10:00</td>\n",
       "      <td>17.00</td>\n",
       "      <td>10329302124590727494</td>\n",
       "      <td>2017-06-01 00:10:00</td>\n",
       "    </tr>\n",
       "    <tr>\n",
       "      <th>1</th>\n",
       "      <td>2017-06-01 00:25:00</td>\n",
       "      <td>0.55</td>\n",
       "      <td>11627257723692907447</td>\n",
       "      <td>2017-06-01 00:25:00</td>\n",
       "    </tr>\n",
       "    <tr>\n",
       "      <th>2</th>\n",
       "      <td>2017-06-01 00:27:00</td>\n",
       "      <td>0.37</td>\n",
       "      <td>17903680561304213844</td>\n",
       "      <td>2017-06-01 00:27:00</td>\n",
       "    </tr>\n",
       "    <tr>\n",
       "      <th>3</th>\n",
       "      <td>2017-06-01 00:29:00</td>\n",
       "      <td>0.55</td>\n",
       "      <td>16109239769442553005</td>\n",
       "      <td>2017-06-01 00:29:00</td>\n",
       "    </tr>\n",
       "    <tr>\n",
       "      <th>4</th>\n",
       "      <td>2017-06-01 07:58:00</td>\n",
       "      <td>0.37</td>\n",
       "      <td>14200605875248379450</td>\n",
       "      <td>2017-06-01 07:58:00</td>\n",
       "    </tr>\n",
       "  </tbody>\n",
       "</table>\n",
       "</div>"
      ],
      "text/plain": [
       "               Buy Ts  Revenue                   Uid first_purchase_datetime\n",
       "0 2017-06-01 00:10:00    17.00  10329302124590727494     2017-06-01 00:10:00\n",
       "1 2017-06-01 00:25:00     0.55  11627257723692907447     2017-06-01 00:25:00\n",
       "2 2017-06-01 00:27:00     0.37  17903680561304213844     2017-06-01 00:27:00\n",
       "3 2017-06-01 00:29:00     0.55  16109239769442553005     2017-06-01 00:29:00\n",
       "4 2017-06-01 07:58:00     0.37  14200605875248379450     2017-06-01 07:58:00"
      ]
     },
     "execution_count": 14,
     "metadata": {},
     "output_type": "execute_result"
    }
   ],
   "source": [
    "# ¿Cuándo la gente empieza a comprar?\n",
    "first_purchase_dates = orders.groupby('Uid')['Buy Ts'].min()\n",
    "\n",
    "first_purchase_dates.name = 'first_purchase_datetime'\n",
    "orders = orders.join(first_purchase_dates, on='Uid')\n",
    "orders.head()"
   ]
  },
  {
   "cell_type": "markdown",
   "metadata": {},
   "source": [
    "Bien, ya agregamos la columna donde vemos la fecha de la primer compra de cada usuario. Ahora vamos a agregar una columna donde muestre el primer inicio de sesion de cada usuario para así poder sacar la diferencia de fechas y ver cuando la gente tarda en realizar su primera compra."
   ]
  },
  {
   "cell_type": "code",
   "execution_count": 15,
   "metadata": {},
   "outputs": [
    {
     "data": {
      "text/html": [
       "<div>\n",
       "<style scoped>\n",
       "    .dataframe tbody tr th:only-of-type {\n",
       "        vertical-align: middle;\n",
       "    }\n",
       "\n",
       "    .dataframe tbody tr th {\n",
       "        vertical-align: top;\n",
       "    }\n",
       "\n",
       "    .dataframe thead th {\n",
       "        text-align: right;\n",
       "    }\n",
       "</style>\n",
       "<table border=\"1\" class=\"dataframe\">\n",
       "  <thead>\n",
       "    <tr style=\"text-align: right;\">\n",
       "      <th></th>\n",
       "      <th>Buy Ts</th>\n",
       "      <th>Revenue</th>\n",
       "      <th>Uid</th>\n",
       "      <th>first_purchase_datetime</th>\n",
       "      <th>first_session_datetime</th>\n",
       "    </tr>\n",
       "  </thead>\n",
       "  <tbody>\n",
       "    <tr>\n",
       "      <th>0</th>\n",
       "      <td>2017-06-01 00:10:00</td>\n",
       "      <td>17.00</td>\n",
       "      <td>10329302124590727494</td>\n",
       "      <td>2017-06-01 00:10:00</td>\n",
       "      <td>2017-06-01 00:09:00</td>\n",
       "    </tr>\n",
       "    <tr>\n",
       "      <th>1</th>\n",
       "      <td>2017-06-01 00:25:00</td>\n",
       "      <td>0.55</td>\n",
       "      <td>11627257723692907447</td>\n",
       "      <td>2017-06-01 00:25:00</td>\n",
       "      <td>2017-06-01 00:14:00</td>\n",
       "    </tr>\n",
       "    <tr>\n",
       "      <th>2</th>\n",
       "      <td>2017-06-01 00:27:00</td>\n",
       "      <td>0.37</td>\n",
       "      <td>17903680561304213844</td>\n",
       "      <td>2017-06-01 00:27:00</td>\n",
       "      <td>2017-06-01 00:25:00</td>\n",
       "    </tr>\n",
       "    <tr>\n",
       "      <th>3</th>\n",
       "      <td>2017-06-01 00:29:00</td>\n",
       "      <td>0.55</td>\n",
       "      <td>16109239769442553005</td>\n",
       "      <td>2017-06-01 00:29:00</td>\n",
       "      <td>2017-06-01 00:14:00</td>\n",
       "    </tr>\n",
       "    <tr>\n",
       "      <th>4</th>\n",
       "      <td>2017-06-01 07:58:00</td>\n",
       "      <td>0.37</td>\n",
       "      <td>14200605875248379450</td>\n",
       "      <td>2017-06-01 07:58:00</td>\n",
       "      <td>2017-06-01 07:31:00</td>\n",
       "    </tr>\n",
       "  </tbody>\n",
       "</table>\n",
       "</div>"
      ],
      "text/plain": [
       "               Buy Ts  Revenue                   Uid first_purchase_datetime  \\\n",
       "0 2017-06-01 00:10:00    17.00  10329302124590727494     2017-06-01 00:10:00   \n",
       "1 2017-06-01 00:25:00     0.55  11627257723692907447     2017-06-01 00:25:00   \n",
       "2 2017-06-01 00:27:00     0.37  17903680561304213844     2017-06-01 00:27:00   \n",
       "3 2017-06-01 00:29:00     0.55  16109239769442553005     2017-06-01 00:29:00   \n",
       "4 2017-06-01 07:58:00     0.37  14200605875248379450     2017-06-01 07:58:00   \n",
       "\n",
       "  first_session_datetime  \n",
       "0    2017-06-01 00:09:00  \n",
       "1    2017-06-01 00:14:00  \n",
       "2    2017-06-01 00:25:00  \n",
       "3    2017-06-01 00:14:00  \n",
       "4    2017-06-01 07:31:00  "
      ]
     },
     "execution_count": 15,
     "metadata": {},
     "output_type": "execute_result"
    }
   ],
   "source": [
    "# Agregamos nueva columna 'first_session_datetime'\n",
    "first_session_ts = visits.groupby('Uid')['Start Ts'].min()\n",
    "\n",
    "first_session_ts.name = 'first_session_datetime'\n",
    "orders = orders.join(first_session_ts, on='Uid')\n",
    "orders.head()"
   ]
  },
  {
   "cell_type": "code",
   "execution_count": 16,
   "metadata": {
    "scrolled": true
   },
   "outputs": [
    {
     "name": "stdout",
     "output_type": "stream",
     "text": [
      "                    Uid  Conversion\n",
      "0  10329302124590727494         1.0\n",
      "1  11627257723692907447        11.0\n",
      "2  17903680561304213844         2.0\n",
      "3  16109239769442553005        15.0\n",
      "4  14200605875248379450        27.0\n",
      "5  10402394430196413321         0.0\n",
      "6  12464626743129688638         3.0\n",
      "7   3644482766749211722         0.0\n",
      "8  17542070709969841479         4.0\n",
      "9   1074355127080856382         2.0\n"
     ]
    }
   ],
   "source": [
    "# Calculamos la diferencia de fechas entre la primera sesión y la primera compra para cada usuario en minutos\n",
    "orders['Conversion'] = ((orders['first_purchase_datetime'] - orders['first_session_datetime']).dt.seconds)/(60)\n",
    "\n",
    "\n",
    "print(orders[['Uid', 'Conversion']].head(10))"
   ]
  },
  {
   "cell_type": "code",
   "execution_count": 17,
   "metadata": {},
   "outputs": [
    {
     "name": "stdout",
     "output_type": "stream",
     "text": [
      "Tiempo promedio de compra desde el primer inicio de sesión: 284 minutes\n",
      "Tiempo mediano de compra desde el primer inicio de sesión: 20 minutes\n"
     ]
    }
   ],
   "source": [
    "average_time_to_purchase = orders['Conversion'].mean()\n",
    "median_time_to_purchase = orders['Conversion'].median()\n",
    "\n",
    "\n",
    "print(\"Tiempo promedio de compra desde el primer inicio de sesión:\", int(average_time_to_purchase), 'minutes')\n",
    "print(\"Tiempo mediano de compra desde el primer inicio de sesión:\", int(median_time_to_purchase), 'minutes')"
   ]
  },
  {
   "cell_type": "code",
   "execution_count": 18,
   "metadata": {
    "scrolled": true
   },
   "outputs": [
    {
     "data": {
      "text/plain": [
       "0.0     3929\n",
       "1.0     3286\n",
       "2.0     2545\n",
       "3.0     2091\n",
       "4.0     1719\n",
       "5.0     1386\n",
       "6.0     1382\n",
       "7.0     1346\n",
       "8.0      964\n",
       "9.0      945\n",
       "10.0     732\n",
       "12.0     664\n",
       "17.0     654\n",
       "11.0     651\n",
       "13.0     640\n",
       "16.0     517\n",
       "14.0     475\n",
       "15.0     453\n",
       "19.0     341\n",
       "18.0     334\n",
       "Name: Conversion, dtype: int64"
      ]
     },
     "execution_count": 18,
     "metadata": {},
     "output_type": "execute_result"
    }
   ],
   "source": [
    "orders['Conversion'].value_counts().head(20)"
   ]
  },
  {
   "cell_type": "code",
   "execution_count": 19,
   "metadata": {},
   "outputs": [
    {
     "data": {
      "image/png": "[encoded data removed]",
      "text/plain": [
       "<Figure size 720x432 with 1 Axes>"
      ]
     },
     "metadata": {
      "needs_background": "light"
     },
     "output_type": "display_data"
    }
   ],
   "source": [
    "conversion_counts = orders['Conversion'].astype(int).value_counts().head(15)\n",
    "\n",
    "plt.figure(figsize=(10, 6))\n",
    "conversion_counts.plot(kind='bar')\n",
    "plt.xlabel('Conversion (minutes)')\n",
    "plt.ylabel('Count (no. of purchases)')\n",
    "plt.title('Distribution of Conversion')\n",
    "plt.xticks(rotation=0)\n",
    "plt.grid(True)\n",
    "plt.show()"
   ]
  },
  {
   "cell_type": "markdown",
   "metadata": {},
   "source": [
    "Aquí podemos ver que la mayor parte de los usuarios tienen a **realizar compras el mismo día de su primer inicio de sesión, aproximadamente a los 20 minutos**. Por esta razón es por la que utilizamos la mediana y no la media, ya que la media muestra el promedio de compra de todos los usuarios (17 días después del primer inicio de sesión)\n",
    "\n",
    "Por un lado, es una buena señal, ya que la conversión es rápida y parece no tener problemas para ejecutar compras sin estar tan familiarizados con la página."
   ]
  },
  {
   "cell_type": "markdown",
   "metadata": {},
   "source": [
    "- ¿Cuántos pedidos hacen durante un período de tiempo dado?"
   ]
  },
  {
   "cell_type": "code",
   "execution_count": 20,
   "metadata": {},
   "outputs": [
    {
     "data": {
      "text/html": [
       "<div>\n",
       "<style scoped>\n",
       "    .dataframe tbody tr th:only-of-type {\n",
       "        vertical-align: middle;\n",
       "    }\n",
       "\n",
       "    .dataframe tbody tr th {\n",
       "        vertical-align: top;\n",
       "    }\n",
       "\n",
       "    .dataframe thead th {\n",
       "        text-align: right;\n",
       "    }\n",
       "</style>\n",
       "<table border=\"1\" class=\"dataframe\">\n",
       "  <thead>\n",
       "    <tr style=\"text-align: right;\">\n",
       "      <th></th>\n",
       "      <th>Buy Ts</th>\n",
       "      <th>Revenue</th>\n",
       "      <th>Uid</th>\n",
       "      <th>first_purchase_datetime</th>\n",
       "      <th>first_session_datetime</th>\n",
       "      <th>Conversion</th>\n",
       "      <th>first_order_month</th>\n",
       "      <th>order_month</th>\n",
       "      <th>cohort_months</th>\n",
       "    </tr>\n",
       "  </thead>\n",
       "  <tbody>\n",
       "    <tr>\n",
       "      <th>0</th>\n",
       "      <td>2017-06-01 00:10:00</td>\n",
       "      <td>17.00</td>\n",
       "      <td>10329302124590727494</td>\n",
       "      <td>2017-06-01 00:10:00</td>\n",
       "      <td>2017-06-01 00:09:00</td>\n",
       "      <td>1.0</td>\n",
       "      <td>2017-06</td>\n",
       "      <td>2017-06-01</td>\n",
       "      <td>0</td>\n",
       "    </tr>\n",
       "    <tr>\n",
       "      <th>1</th>\n",
       "      <td>2017-06-01 00:25:00</td>\n",
       "      <td>0.55</td>\n",
       "      <td>11627257723692907447</td>\n",
       "      <td>2017-06-01 00:25:00</td>\n",
       "      <td>2017-06-01 00:14:00</td>\n",
       "      <td>11.0</td>\n",
       "      <td>2017-06</td>\n",
       "      <td>2017-06-01</td>\n",
       "      <td>0</td>\n",
       "    </tr>\n",
       "    <tr>\n",
       "      <th>2</th>\n",
       "      <td>2017-06-01 00:27:00</td>\n",
       "      <td>0.37</td>\n",
       "      <td>17903680561304213844</td>\n",
       "      <td>2017-06-01 00:27:00</td>\n",
       "      <td>2017-06-01 00:25:00</td>\n",
       "      <td>2.0</td>\n",
       "      <td>2017-06</td>\n",
       "      <td>2017-06-01</td>\n",
       "      <td>0</td>\n",
       "    </tr>\n",
       "    <tr>\n",
       "      <th>3</th>\n",
       "      <td>2017-06-01 00:29:00</td>\n",
       "      <td>0.55</td>\n",
       "      <td>16109239769442553005</td>\n",
       "      <td>2017-06-01 00:29:00</td>\n",
       "      <td>2017-06-01 00:14:00</td>\n",
       "      <td>15.0</td>\n",
       "      <td>2017-06</td>\n",
       "      <td>2017-06-01</td>\n",
       "      <td>0</td>\n",
       "    </tr>\n",
       "    <tr>\n",
       "      <th>4</th>\n",
       "      <td>2017-06-01 07:58:00</td>\n",
       "      <td>0.37</td>\n",
       "      <td>14200605875248379450</td>\n",
       "      <td>2017-06-01 07:58:00</td>\n",
       "      <td>2017-06-01 07:31:00</td>\n",
       "      <td>27.0</td>\n",
       "      <td>2017-06</td>\n",
       "      <td>2017-06-01</td>\n",
       "      <td>0</td>\n",
       "    </tr>\n",
       "  </tbody>\n",
       "</table>\n",
       "</div>"
      ],
      "text/plain": [
       "               Buy Ts  Revenue                   Uid first_purchase_datetime  \\\n",
       "0 2017-06-01 00:10:00    17.00  10329302124590727494     2017-06-01 00:10:00   \n",
       "1 2017-06-01 00:25:00     0.55  11627257723692907447     2017-06-01 00:25:00   \n",
       "2 2017-06-01 00:27:00     0.37  17903680561304213844     2017-06-01 00:27:00   \n",
       "3 2017-06-01 00:29:00     0.55  16109239769442553005     2017-06-01 00:29:00   \n",
       "4 2017-06-01 07:58:00     0.37  14200605875248379450     2017-06-01 07:58:00   \n",
       "\n",
       "  first_session_datetime  Conversion first_order_month order_month  \\\n",
       "0    2017-06-01 00:09:00         1.0           2017-06  2017-06-01   \n",
       "1    2017-06-01 00:14:00        11.0           2017-06  2017-06-01   \n",
       "2    2017-06-01 00:25:00         2.0           2017-06  2017-06-01   \n",
       "3    2017-06-01 00:14:00        15.0           2017-06  2017-06-01   \n",
       "4    2017-06-01 07:31:00        27.0           2017-06  2017-06-01   \n",
       "\n",
       "   cohort_months  \n",
       "0              0  \n",
       "1              0  \n",
       "2              0  \n",
       "3              0  \n",
       "4              0  "
      ]
     },
     "execution_count": 20,
     "metadata": {},
     "output_type": "execute_result"
    }
   ],
   "source": [
    "# Calculamos los meses de la cohorte y la duración de la conversión\n",
    "orders['first_order_month'] = orders['first_purchase_datetime'].astype('datetime64[M]')\n",
    "orders['order_month'] = orders['Buy Ts'].astype('datetime64[M]')\n",
    "\n",
    "orders['cohort_months'] = (orders['order_month'] - orders['first_order_month']) / np.timedelta64(1, 'M')\n",
    "orders['cohort_months'] = orders['cohort_months'].round().astype('int')\n",
    "\n",
    "orders['first_order_month'] = orders['first_order_month'].dt.strftime('%Y-%m') \n",
    "\n",
    "orders.head()"
   ]
  },
  {
   "cell_type": "markdown",
   "metadata": {},
   "source": [
    "Con estos calculos podemos establecer un teimpo determinado para analizar cuantos pedidos se realizan durante un tiempo dado. En este caso vamos a seleccionar el segundo semestre del año 2017."
   ]
  },
  {
   "cell_type": "code",
   "execution_count": 21,
   "metadata": {},
   "outputs": [],
   "source": [
    "start_date = '2017-06'\n",
    "end_date = '2017-12'\n",
    "\n",
    "orders_filtered = orders[(orders['order_month'] >= start_date) & (orders['order_month'] <= end_date)]"
   ]
  },
  {
   "cell_type": "code",
   "execution_count": 22,
   "metadata": {},
   "outputs": [
    {
     "data": {
      "text/html": [
       "<div>\n",
       "<style scoped>\n",
       "    .dataframe tbody tr th:only-of-type {\n",
       "        vertical-align: middle;\n",
       "    }\n",
       "\n",
       "    .dataframe tbody tr th {\n",
       "        vertical-align: top;\n",
       "    }\n",
       "\n",
       "    .dataframe thead th {\n",
       "        text-align: right;\n",
       "    }\n",
       "</style>\n",
       "<table border=\"1\" class=\"dataframe\">\n",
       "  <thead>\n",
       "    <tr style=\"text-align: right;\">\n",
       "      <th>cohort_months</th>\n",
       "      <th>0</th>\n",
       "      <th>1</th>\n",
       "      <th>2</th>\n",
       "      <th>3</th>\n",
       "      <th>4</th>\n",
       "      <th>5</th>\n",
       "      <th>6</th>\n",
       "    </tr>\n",
       "    <tr>\n",
       "      <th>first_order_month</th>\n",
       "      <th></th>\n",
       "      <th></th>\n",
       "      <th></th>\n",
       "      <th></th>\n",
       "      <th></th>\n",
       "      <th></th>\n",
       "      <th></th>\n",
       "    </tr>\n",
       "  </thead>\n",
       "  <tbody>\n",
       "    <tr>\n",
       "      <th>2017-06</th>\n",
       "      <td>2354.0</td>\n",
       "      <td>177.0</td>\n",
       "      <td>174.0</td>\n",
       "      <td>226.0</td>\n",
       "      <td>292.0</td>\n",
       "      <td>218.0</td>\n",
       "      <td>276.0</td>\n",
       "    </tr>\n",
       "    <tr>\n",
       "      <th>2017-07</th>\n",
       "      <td>2186.0</td>\n",
       "      <td>100.0</td>\n",
       "      <td>120.0</td>\n",
       "      <td>104.0</td>\n",
       "      <td>72.0</td>\n",
       "      <td>82.0</td>\n",
       "      <td></td>\n",
       "    </tr>\n",
       "    <tr>\n",
       "      <th>2017-08</th>\n",
       "      <td>1533.0</td>\n",
       "      <td>108.0</td>\n",
       "      <td>100.0</td>\n",
       "      <td>81.0</td>\n",
       "      <td>85.0</td>\n",
       "      <td></td>\n",
       "      <td></td>\n",
       "    </tr>\n",
       "    <tr>\n",
       "      <th>2017-09</th>\n",
       "      <td>2933.0</td>\n",
       "      <td>219.0</td>\n",
       "      <td>161.0</td>\n",
       "      <td>164.0</td>\n",
       "      <td></td>\n",
       "      <td></td>\n",
       "      <td></td>\n",
       "    </tr>\n",
       "    <tr>\n",
       "      <th>2017-10</th>\n",
       "      <td>4964.0</td>\n",
       "      <td>314.0</td>\n",
       "      <td>162.0</td>\n",
       "      <td></td>\n",
       "      <td></td>\n",
       "      <td></td>\n",
       "      <td></td>\n",
       "    </tr>\n",
       "    <tr>\n",
       "      <th>2017-11</th>\n",
       "      <td>4813.0</td>\n",
       "      <td>397.0</td>\n",
       "      <td></td>\n",
       "      <td></td>\n",
       "      <td></td>\n",
       "      <td></td>\n",
       "      <td></td>\n",
       "    </tr>\n",
       "    <tr>\n",
       "      <th>2017-12</th>\n",
       "      <td>5052.0</td>\n",
       "      <td></td>\n",
       "      <td></td>\n",
       "      <td></td>\n",
       "      <td></td>\n",
       "      <td></td>\n",
       "      <td></td>\n",
       "    </tr>\n",
       "  </tbody>\n",
       "</table>\n",
       "</div>"
      ],
      "text/plain": [
       "cohort_months           0      1      2      3      4      5      6\n",
       "first_order_month                                                  \n",
       "2017-06            2354.0  177.0  174.0  226.0  292.0  218.0  276.0\n",
       "2017-07            2186.0  100.0  120.0  104.0   72.0   82.0       \n",
       "2017-08            1533.0  108.0  100.0   81.0   85.0              \n",
       "2017-09            2933.0  219.0  161.0  164.0                     \n",
       "2017-10            4964.0  314.0  162.0                            \n",
       "2017-11            4813.0  397.0                                   \n",
       "2017-12            5052.0                                          "
      ]
     },
     "execution_count": 22,
     "metadata": {},
     "output_type": "execute_result"
    }
   ],
   "source": [
    "# Creamos una tabla pivotante con los datos de los cohortes\n",
    "order_pivot = orders_filtered.pivot_table(\n",
    "    index='first_order_month',\n",
    "    columns='cohort_months',\n",
    "    values='Uid',\n",
    "    aggfunc='count',\n",
    ")\n",
    "\n",
    "order_pivot.fillna('') "
   ]
  },
  {
   "cell_type": "code",
   "execution_count": 23,
   "metadata": {},
   "outputs": [
    {
     "data": {
      "image/png": "[encoded data removed]",
      "text/plain": [
       "<Figure size 936x648 with 2 Axes>"
      ]
     },
     "metadata": {
      "needs_background": "light"
     },
     "output_type": "display_data"
    }
   ],
   "source": [
    "order_pivot_percentage = order_pivot.div(order_pivot.iloc[:, 0], axis=0) * 100\n",
    "\n",
    "plt.figure(figsize=(13, 9))\n",
    "plt.title(\"Heatmap - Orders During Time (Percentage)\")\n",
    "sns.heatmap(\n",
    "    order_pivot_percentage,\n",
    "    annot=True,\n",
    "    fmt='.1f',\n",
    "    linewidths=1,\n",
    "    linecolor='gray',\n",
    ")\n",
    "plt.show()"
   ]
  },
  {
   "cell_type": "markdown",
   "metadata": {},
   "source": [
    "El heatmap muestra el número de pedidos en procentaje de cada mes para cada cohorte y permite visualizar fácilmente cómo evolucionan las conversiones a lo largo del tiempo para así facilitar la detección posibles patrones o tendencias. Podemos ver que las **compras** a partir de la primera, empiezan a **disminuir con el paso de los meses**, mientras que las **primeras compras van aumentendo con el paso de los meses.**"
   ]
  },
  {
   "cell_type": "markdown",
   "metadata": {},
   "source": [
    "- ¿Cuál es el tamaño promedio de compra?\n",
    "\n",
    "Tendremos que encontrar la media de la columna 'Revenue', esta contiene el monto de cada compra realizada. "
   ]
  },
  {
   "cell_type": "code",
   "execution_count": 25,
   "metadata": {},
   "outputs": [
    {
     "name": "stdout",
     "output_type": "stream",
     "text": [
      "Average Purchase Size: 5.0\n"
     ]
    }
   ],
   "source": [
    "avg_purchase_size = orders['Revenue'].mean().round(1)\n",
    "print(f'Average Purchase Size:', avg_purchase_size)"
   ]
  },
  {
   "cell_type": "markdown",
   "metadata": {},
   "source": [
    "Esto significa que, en promedio, cada compra realizada tiene un valor de 5 unidades monetarias.\n",
    "Veamos una gráfica donde se vea el promedio de compra por mes"
   ]
  },
  {
   "cell_type": "code",
   "execution_count": 26,
   "metadata": {},
   "outputs": [
    {
     "data": {
      "image/png": "[encoded data removed]",
      "text/plain": [
       "<Figure size 720x432 with 1 Axes>"
      ]
     },
     "metadata": {
      "needs_background": "light"
     },
     "output_type": "display_data"
    }
   ],
   "source": [
    "monthly_avg_purchase = orders.groupby('order_month')['Revenue'].mean()\n",
    "\n",
    "plt.figure(figsize=(10, 6))\n",
    "plt.plot(monthly_avg_purchase.index, monthly_avg_purchase.values, marker='o')\n",
    "plt.title('Average Purchase Size per Month')\n",
    "plt.xlabel('Month')\n",
    "plt.ylabel('Average Purchase Size')\n",
    "plt.xticks(rotation=45)\n",
    "plt.show()"
   ]
  },
  {
   "cell_type": "markdown",
   "metadata": {},
   "source": [
    "- ¿Cuánto dinero traen? (LTV)\n",
    "\n",
    "El LTV (lifetime value) es el valor \"de vida\" del cliente. Es la cantidad total de dinero que un cliente aporta a la empresa en promedio al realizar compras."
   ]
  },
  {
   "cell_type": "markdown",
   "metadata": {},
   "source": [
    "Es útil encontrar el LTV para diferentes cohortes. Repasemos lo que tenemos que hacer:\n",
    "\n",
    "- encontrar la fecha de la primera compra de cada cliente;\n",
    "- calcular el número de nuevos clientes para cada fecha (o rango de fechas, en este caso, para cada mes);\n",
    "- añadir el mes del primer pedido a la tabla de pedidos;\n",
    "- agrupar la tabla y calcular los ingresos."
   ]
  },
  {
   "cell_type": "code",
   "execution_count": 27,
   "metadata": {},
   "outputs": [
    {
     "data": {
      "text/html": [
       "<div>\n",
       "<style scoped>\n",
       "    .dataframe tbody tr th:only-of-type {\n",
       "        vertical-align: middle;\n",
       "    }\n",
       "\n",
       "    .dataframe tbody tr th {\n",
       "        vertical-align: top;\n",
       "    }\n",
       "\n",
       "    .dataframe thead th {\n",
       "        text-align: right;\n",
       "    }\n",
       "</style>\n",
       "<table border=\"1\" class=\"dataframe\">\n",
       "  <thead>\n",
       "    <tr style=\"text-align: right;\">\n",
       "      <th></th>\n",
       "      <th>Uid</th>\n",
       "      <th>first_order_month</th>\n",
       "    </tr>\n",
       "  </thead>\n",
       "  <tbody>\n",
       "    <tr>\n",
       "      <th>0</th>\n",
       "      <td>313578113262317</td>\n",
       "      <td>2018-01-01</td>\n",
       "    </tr>\n",
       "    <tr>\n",
       "      <th>1</th>\n",
       "      <td>1575281904278712</td>\n",
       "      <td>2017-06-01</td>\n",
       "    </tr>\n",
       "    <tr>\n",
       "      <th>2</th>\n",
       "      <td>2429014661409475</td>\n",
       "      <td>2017-10-01</td>\n",
       "    </tr>\n",
       "    <tr>\n",
       "      <th>3</th>\n",
       "      <td>2464366381792757</td>\n",
       "      <td>2018-01-01</td>\n",
       "    </tr>\n",
       "    <tr>\n",
       "      <th>4</th>\n",
       "      <td>2551852515556206</td>\n",
       "      <td>2017-11-01</td>\n",
       "    </tr>\n",
       "  </tbody>\n",
       "</table>\n",
       "</div>"
      ],
      "text/plain": [
       "                Uid first_order_month\n",
       "0   313578113262317        2018-01-01\n",
       "1  1575281904278712        2017-06-01\n",
       "2  2429014661409475        2017-10-01\n",
       "3  2464366381792757        2018-01-01\n",
       "4  2551852515556206        2017-11-01"
      ]
     },
     "execution_count": 27,
     "metadata": {},
     "output_type": "execute_result"
    }
   ],
   "source": [
    "# Recuperemos el mes de la primera compra de cada cliente:\n",
    "first_orders = orders.groupby('Uid').agg({'order_month': 'min'}).reset_index()\n",
    "first_orders.columns = ['Uid', 'first_order_month']\n",
    "first_orders.head() "
   ]
  },
  {
   "cell_type": "markdown",
   "metadata": {},
   "source": [
    "Calcularemos el número de nuevos clientes (n_buyers) para cada mes:"
   ]
  },
  {
   "cell_type": "code",
   "execution_count": 28,
   "metadata": {},
   "outputs": [
    {
     "data": {
      "text/html": [
       "<div>\n",
       "<style scoped>\n",
       "    .dataframe tbody tr th:only-of-type {\n",
       "        vertical-align: middle;\n",
       "    }\n",
       "\n",
       "    .dataframe tbody tr th {\n",
       "        vertical-align: top;\n",
       "    }\n",
       "\n",
       "    .dataframe thead th {\n",
       "        text-align: right;\n",
       "    }\n",
       "</style>\n",
       "<table border=\"1\" class=\"dataframe\">\n",
       "  <thead>\n",
       "    <tr style=\"text-align: right;\">\n",
       "      <th></th>\n",
       "      <th>first_order_month</th>\n",
       "      <th>n_buyers</th>\n",
       "    </tr>\n",
       "  </thead>\n",
       "  <tbody>\n",
       "    <tr>\n",
       "      <th>0</th>\n",
       "      <td>2017-06</td>\n",
       "      <td>2023</td>\n",
       "    </tr>\n",
       "    <tr>\n",
       "      <th>1</th>\n",
       "      <td>2017-07</td>\n",
       "      <td>1923</td>\n",
       "    </tr>\n",
       "    <tr>\n",
       "      <th>2</th>\n",
       "      <td>2017-08</td>\n",
       "      <td>1370</td>\n",
       "    </tr>\n",
       "    <tr>\n",
       "      <th>3</th>\n",
       "      <td>2017-09</td>\n",
       "      <td>2581</td>\n",
       "    </tr>\n",
       "    <tr>\n",
       "      <th>4</th>\n",
       "      <td>2017-10</td>\n",
       "      <td>4340</td>\n",
       "    </tr>\n",
       "  </tbody>\n",
       "</table>\n",
       "</div>"
      ],
      "text/plain": [
       "  first_order_month  n_buyers\n",
       "0           2017-06      2023\n",
       "1           2017-07      1923\n",
       "2           2017-08      1370\n",
       "3           2017-09      2581\n",
       "4           2017-10      4340"
      ]
     },
     "execution_count": 28,
     "metadata": {},
     "output_type": "execute_result"
    }
   ],
   "source": [
    "cohort_sizes = orders.groupby('first_order_month').agg({'Uid': 'nunique'}).reset_index()\n",
    "cohort_sizes.columns = ['first_order_month', 'n_buyers']\n",
    "cohort_sizes.head() "
   ]
  },
  {
   "cell_type": "markdown",
   "metadata": {},
   "source": [
    "Creamos cohortes. Vamos a agregar los meses de la primera compra de los clientes y clientas a la tabla de pedidos. Tambien agregaremos la edad de la cohorte en lugar del mes del pedido (representado por 'cohort_months'):"
   ]
  },
  {
   "cell_type": "code",
   "execution_count": 29,
   "metadata": {},
   "outputs": [
    {
     "data": {
      "text/html": [
       "<div>\n",
       "<style scoped>\n",
       "    .dataframe tbody tr th:only-of-type {\n",
       "        vertical-align: middle;\n",
       "    }\n",
       "\n",
       "    .dataframe tbody tr th {\n",
       "        vertical-align: top;\n",
       "    }\n",
       "\n",
       "    .dataframe thead th {\n",
       "        text-align: right;\n",
       "    }\n",
       "</style>\n",
       "<table border=\"1\" class=\"dataframe\">\n",
       "  <thead>\n",
       "    <tr style=\"text-align: right;\">\n",
       "      <th></th>\n",
       "      <th>first_order_month</th>\n",
       "      <th>cohort_months</th>\n",
       "      <th>order_month</th>\n",
       "      <th>Revenue</th>\n",
       "    </tr>\n",
       "  </thead>\n",
       "  <tbody>\n",
       "    <tr>\n",
       "      <th>0</th>\n",
       "      <td>2017-06</td>\n",
       "      <td>0</td>\n",
       "      <td>2017-06-01</td>\n",
       "      <td>9557.49</td>\n",
       "    </tr>\n",
       "    <tr>\n",
       "      <th>1</th>\n",
       "      <td>2017-06</td>\n",
       "      <td>1</td>\n",
       "      <td>2017-07-01</td>\n",
       "      <td>981.82</td>\n",
       "    </tr>\n",
       "    <tr>\n",
       "      <th>2</th>\n",
       "      <td>2017-06</td>\n",
       "      <td>2</td>\n",
       "      <td>2017-08-01</td>\n",
       "      <td>885.34</td>\n",
       "    </tr>\n",
       "    <tr>\n",
       "      <th>3</th>\n",
       "      <td>2017-06</td>\n",
       "      <td>3</td>\n",
       "      <td>2017-09-01</td>\n",
       "      <td>1931.30</td>\n",
       "    </tr>\n",
       "    <tr>\n",
       "      <th>4</th>\n",
       "      <td>2017-06</td>\n",
       "      <td>4</td>\n",
       "      <td>2017-10-01</td>\n",
       "      <td>2068.58</td>\n",
       "    </tr>\n",
       "  </tbody>\n",
       "</table>\n",
       "</div>"
      ],
      "text/plain": [
       "  first_order_month  cohort_months order_month  Revenue\n",
       "0           2017-06              0  2017-06-01  9557.49\n",
       "1           2017-06              1  2017-07-01   981.82\n",
       "2           2017-06              2  2017-08-01   885.34\n",
       "3           2017-06              3  2017-09-01  1931.30\n",
       "4           2017-06              4  2017-10-01  2068.58"
      ]
     },
     "execution_count": 29,
     "metadata": {},
     "output_type": "execute_result"
    }
   ],
   "source": [
    "cohorts = orders.groupby(['first_order_month', 'cohort_months', 'order_month']).agg({'Revenue': 'sum'}).reset_index()\n",
    "cohorts.head()"
   ]
  },
  {
   "cell_type": "markdown",
   "metadata": {},
   "source": [
    "Las filas de la tabla 'cohorts' especifica los ingresos que generó la cohorte. Por ejemplo, en la fila 0 podemos ver que los clientes que realizaron su primer pedido en Junio de 2017 generaron un ingreso total de $9557.49 ese mes."
   ]
  },
  {
   "cell_type": "markdown",
   "metadata": {},
   "source": [
    "Agreguemos datos sobre cuántos usuarios realizaron sus primeras compras en cada mes a la tabla cohorts, ya que, el LTV es el ingreso acumulado de una cohorte, que representa la cantidad de personas en la cohorte."
   ]
  },
  {
   "cell_type": "code",
   "execution_count": 30,
   "metadata": {
    "scrolled": false
   },
   "outputs": [
    {
     "data": {
      "text/html": [
       "<div>\n",
       "<style scoped>\n",
       "    .dataframe tbody tr th:only-of-type {\n",
       "        vertical-align: middle;\n",
       "    }\n",
       "\n",
       "    .dataframe tbody tr th {\n",
       "        vertical-align: top;\n",
       "    }\n",
       "\n",
       "    .dataframe thead th {\n",
       "        text-align: right;\n",
       "    }\n",
       "</style>\n",
       "<table border=\"1\" class=\"dataframe\">\n",
       "  <thead>\n",
       "    <tr style=\"text-align: right;\">\n",
       "      <th></th>\n",
       "      <th>first_order_month</th>\n",
       "      <th>n_buyers</th>\n",
       "      <th>cohort_months</th>\n",
       "      <th>order_month</th>\n",
       "      <th>Revenue</th>\n",
       "    </tr>\n",
       "  </thead>\n",
       "  <tbody>\n",
       "    <tr>\n",
       "      <th>0</th>\n",
       "      <td>2017-06</td>\n",
       "      <td>2023</td>\n",
       "      <td>0</td>\n",
       "      <td>2017-06-01</td>\n",
       "      <td>9557.49</td>\n",
       "    </tr>\n",
       "    <tr>\n",
       "      <th>1</th>\n",
       "      <td>2017-06</td>\n",
       "      <td>2023</td>\n",
       "      <td>1</td>\n",
       "      <td>2017-07-01</td>\n",
       "      <td>981.82</td>\n",
       "    </tr>\n",
       "    <tr>\n",
       "      <th>2</th>\n",
       "      <td>2017-06</td>\n",
       "      <td>2023</td>\n",
       "      <td>2</td>\n",
       "      <td>2017-08-01</td>\n",
       "      <td>885.34</td>\n",
       "    </tr>\n",
       "    <tr>\n",
       "      <th>3</th>\n",
       "      <td>2017-06</td>\n",
       "      <td>2023</td>\n",
       "      <td>3</td>\n",
       "      <td>2017-09-01</td>\n",
       "      <td>1931.30</td>\n",
       "    </tr>\n",
       "    <tr>\n",
       "      <th>4</th>\n",
       "      <td>2017-06</td>\n",
       "      <td>2023</td>\n",
       "      <td>4</td>\n",
       "      <td>2017-10-01</td>\n",
       "      <td>2068.58</td>\n",
       "    </tr>\n",
       "    <tr>\n",
       "      <th>5</th>\n",
       "      <td>2017-06</td>\n",
       "      <td>2023</td>\n",
       "      <td>5</td>\n",
       "      <td>2017-11-01</td>\n",
       "      <td>1487.92</td>\n",
       "    </tr>\n",
       "    <tr>\n",
       "      <th>6</th>\n",
       "      <td>2017-06</td>\n",
       "      <td>2023</td>\n",
       "      <td>6</td>\n",
       "      <td>2017-12-01</td>\n",
       "      <td>1922.74</td>\n",
       "    </tr>\n",
       "    <tr>\n",
       "      <th>7</th>\n",
       "      <td>2017-06</td>\n",
       "      <td>2023</td>\n",
       "      <td>7</td>\n",
       "      <td>2018-01-01</td>\n",
       "      <td>1176.56</td>\n",
       "    </tr>\n",
       "    <tr>\n",
       "      <th>8</th>\n",
       "      <td>2017-06</td>\n",
       "      <td>2023</td>\n",
       "      <td>8</td>\n",
       "      <td>2018-02-01</td>\n",
       "      <td>1119.15</td>\n",
       "    </tr>\n",
       "    <tr>\n",
       "      <th>9</th>\n",
       "      <td>2017-06</td>\n",
       "      <td>2023</td>\n",
       "      <td>9</td>\n",
       "      <td>2018-03-01</td>\n",
       "      <td>1225.51</td>\n",
       "    </tr>\n",
       "    <tr>\n",
       "      <th>10</th>\n",
       "      <td>2017-06</td>\n",
       "      <td>2023</td>\n",
       "      <td>10</td>\n",
       "      <td>2018-04-01</td>\n",
       "      <td>1155.66</td>\n",
       "    </tr>\n",
       "    <tr>\n",
       "      <th>11</th>\n",
       "      <td>2017-06</td>\n",
       "      <td>2023</td>\n",
       "      <td>11</td>\n",
       "      <td>2018-05-01</td>\n",
       "      <td>519.62</td>\n",
       "    </tr>\n",
       "    <tr>\n",
       "      <th>12</th>\n",
       "      <td>2017-07</td>\n",
       "      <td>1923</td>\n",
       "      <td>0</td>\n",
       "      <td>2017-07-01</td>\n",
       "      <td>11557.65</td>\n",
       "    </tr>\n",
       "  </tbody>\n",
       "</table>\n",
       "</div>"
      ],
      "text/plain": [
       "   first_order_month  n_buyers  cohort_months order_month   Revenue\n",
       "0            2017-06      2023              0  2017-06-01   9557.49\n",
       "1            2017-06      2023              1  2017-07-01    981.82\n",
       "2            2017-06      2023              2  2017-08-01    885.34\n",
       "3            2017-06      2023              3  2017-09-01   1931.30\n",
       "4            2017-06      2023              4  2017-10-01   2068.58\n",
       "5            2017-06      2023              5  2017-11-01   1487.92\n",
       "6            2017-06      2023              6  2017-12-01   1922.74\n",
       "7            2017-06      2023              7  2018-01-01   1176.56\n",
       "8            2017-06      2023              8  2018-02-01   1119.15\n",
       "9            2017-06      2023              9  2018-03-01   1225.51\n",
       "10           2017-06      2023             10  2018-04-01   1155.66\n",
       "11           2017-06      2023             11  2018-05-01    519.62\n",
       "12           2017-07      1923              0  2017-07-01  11557.65"
      ]
     },
     "execution_count": 30,
     "metadata": {},
     "output_type": "execute_result"
    }
   ],
   "source": [
    "report = pd.merge(cohort_sizes, cohorts, on='first_order_month')\n",
    "report.head(13) "
   ]
  },
  {
   "cell_type": "markdown",
   "metadata": {},
   "source": [
    "Como podemos ver en la columna 'n-buyers' los primeros 12 clientes tienen la misma cantidad de clientes, ya que todos se refieren a la misma cohorte."
   ]
  },
  {
   "cell_type": "code",
   "execution_count": 31,
   "metadata": {},
   "outputs": [
    {
     "data": {
      "text/html": [
       "<div>\n",
       "<style scoped>\n",
       "    .dataframe tbody tr th:only-of-type {\n",
       "        vertical-align: middle;\n",
       "    }\n",
       "\n",
       "    .dataframe tbody tr th {\n",
       "        vertical-align: top;\n",
       "    }\n",
       "\n",
       "    .dataframe thead th {\n",
       "        text-align: right;\n",
       "    }\n",
       "</style>\n",
       "<table border=\"1\" class=\"dataframe\">\n",
       "  <thead>\n",
       "    <tr style=\"text-align: right;\">\n",
       "      <th>cohort_months</th>\n",
       "      <th>0</th>\n",
       "      <th>1</th>\n",
       "      <th>2</th>\n",
       "      <th>3</th>\n",
       "      <th>4</th>\n",
       "      <th>5</th>\n",
       "      <th>6</th>\n",
       "      <th>7</th>\n",
       "      <th>8</th>\n",
       "      <th>9</th>\n",
       "      <th>10</th>\n",
       "      <th>11</th>\n",
       "    </tr>\n",
       "    <tr>\n",
       "      <th>first_order_month</th>\n",
       "      <th></th>\n",
       "      <th></th>\n",
       "      <th></th>\n",
       "      <th></th>\n",
       "      <th></th>\n",
       "      <th></th>\n",
       "      <th></th>\n",
       "      <th></th>\n",
       "      <th></th>\n",
       "      <th></th>\n",
       "      <th></th>\n",
       "      <th></th>\n",
       "    </tr>\n",
       "  </thead>\n",
       "  <tbody>\n",
       "    <tr>\n",
       "      <th>2017-06</th>\n",
       "      <td>4.724414</td>\n",
       "      <td>0.485329</td>\n",
       "      <td>0.437637</td>\n",
       "      <td>0.954671</td>\n",
       "      <td>1.022531</td>\n",
       "      <td>0.735502</td>\n",
       "      <td>0.95044</td>\n",
       "      <td>0.581592</td>\n",
       "      <td>0.553213</td>\n",
       "      <td>0.605788</td>\n",
       "      <td>0.571261</td>\n",
       "      <td>0.256856</td>\n",
       "    </tr>\n",
       "    <tr>\n",
       "      <th>2017-07</th>\n",
       "      <td>6.010218</td>\n",
       "      <td>0.335211</td>\n",
       "      <td>0.623531</td>\n",
       "      <td>0.358976</td>\n",
       "      <td>0.176791</td>\n",
       "      <td>0.156048</td>\n",
       "      <td>0.120208</td>\n",
       "      <td>0.14182</td>\n",
       "      <td>0.161232</td>\n",
       "      <td>0.147145</td>\n",
       "      <td>0.155673</td>\n",
       "      <td></td>\n",
       "    </tr>\n",
       "    <tr>\n",
       "      <th>2017-08</th>\n",
       "      <td>5.276518</td>\n",
       "      <td>0.471993</td>\n",
       "      <td>0.458482</td>\n",
       "      <td>0.391277</td>\n",
       "      <td>0.494051</td>\n",
       "      <td>0.28354</td>\n",
       "      <td>0.210664</td>\n",
       "      <td>0.405007</td>\n",
       "      <td>0.292212</td>\n",
       "      <td>0.187978</td>\n",
       "      <td></td>\n",
       "      <td></td>\n",
       "    </tr>\n",
       "    <tr>\n",
       "      <th>2017-09</th>\n",
       "      <td>5.644529</td>\n",
       "      <td>1.117586</td>\n",
       "      <td>0.52093</td>\n",
       "      <td>3.975792</td>\n",
       "      <td>0.400558</td>\n",
       "      <td>0.647067</td>\n",
       "      <td>0.701608</td>\n",
       "      <td>0.24315</td>\n",
       "      <td>0.184006</td>\n",
       "      <td></td>\n",
       "      <td></td>\n",
       "      <td></td>\n",
       "    </tr>\n",
       "    <tr>\n",
       "      <th>2017-10</th>\n",
       "      <td>5.003733</td>\n",
       "      <td>0.535763</td>\n",
       "      <td>0.191394</td>\n",
       "      <td>0.157145</td>\n",
       "      <td>0.15156</td>\n",
       "      <td>0.120362</td>\n",
       "      <td>0.084816</td>\n",
       "      <td>0.11547</td>\n",
       "      <td></td>\n",
       "      <td></td>\n",
       "      <td></td>\n",
       "      <td></td>\n",
       "    </tr>\n",
       "    <tr>\n",
       "      <th>2017-11</th>\n",
       "      <td>5.154683</td>\n",
       "      <td>0.399233</td>\n",
       "      <td>0.199556</td>\n",
       "      <td>0.324952</td>\n",
       "      <td>0.148013</td>\n",
       "      <td>0.053879</td>\n",
       "      <td>0.114928</td>\n",
       "      <td></td>\n",
       "      <td></td>\n",
       "      <td></td>\n",
       "      <td></td>\n",
       "      <td></td>\n",
       "    </tr>\n",
       "    <tr>\n",
       "      <th>2017-12</th>\n",
       "      <td>4.738191</td>\n",
       "      <td>0.260374</td>\n",
       "      <td>0.925097</td>\n",
       "      <td>1.065275</td>\n",
       "      <td>0.31293</td>\n",
       "      <td>0.338047</td>\n",
       "      <td></td>\n",
       "      <td></td>\n",
       "      <td></td>\n",
       "      <td></td>\n",
       "      <td></td>\n",
       "      <td></td>\n",
       "    </tr>\n",
       "    <tr>\n",
       "      <th>2018-01</th>\n",
       "      <td>4.135636</td>\n",
       "      <td>0.294758</td>\n",
       "      <td>0.304281</td>\n",
       "      <td>0.142778</td>\n",
       "      <td>0.062698</td>\n",
       "      <td></td>\n",
       "      <td></td>\n",
       "      <td></td>\n",
       "      <td></td>\n",
       "      <td></td>\n",
       "      <td></td>\n",
       "      <td></td>\n",
       "    </tr>\n",
       "    <tr>\n",
       "      <th>2018-02</th>\n",
       "      <td>4.156987</td>\n",
       "      <td>0.278274</td>\n",
       "      <td>0.078515</td>\n",
       "      <td>0.074144</td>\n",
       "      <td></td>\n",
       "      <td></td>\n",
       "      <td></td>\n",
       "      <td></td>\n",
       "      <td></td>\n",
       "      <td></td>\n",
       "      <td></td>\n",
       "      <td></td>\n",
       "    </tr>\n",
       "    <tr>\n",
       "      <th>2018-03</th>\n",
       "      <td>4.838803</td>\n",
       "      <td>0.300892</td>\n",
       "      <td>0.315559</td>\n",
       "      <td></td>\n",
       "      <td></td>\n",
       "      <td></td>\n",
       "      <td></td>\n",
       "      <td></td>\n",
       "      <td></td>\n",
       "      <td></td>\n",
       "      <td></td>\n",
       "      <td></td>\n",
       "    </tr>\n",
       "    <tr>\n",
       "      <th>2018-04</th>\n",
       "      <td>4.657597</td>\n",
       "      <td>0.531599</td>\n",
       "      <td></td>\n",
       "      <td></td>\n",
       "      <td></td>\n",
       "      <td></td>\n",
       "      <td></td>\n",
       "      <td></td>\n",
       "      <td></td>\n",
       "      <td></td>\n",
       "      <td></td>\n",
       "      <td></td>\n",
       "    </tr>\n",
       "    <tr>\n",
       "      <th>2018-05</th>\n",
       "      <td>4.660562</td>\n",
       "      <td></td>\n",
       "      <td></td>\n",
       "      <td></td>\n",
       "      <td></td>\n",
       "      <td></td>\n",
       "      <td></td>\n",
       "      <td></td>\n",
       "      <td></td>\n",
       "      <td></td>\n",
       "      <td></td>\n",
       "      <td></td>\n",
       "    </tr>\n",
       "    <tr>\n",
       "      <th>2018-06</th>\n",
       "      <td>3.420000</td>\n",
       "      <td></td>\n",
       "      <td></td>\n",
       "      <td></td>\n",
       "      <td></td>\n",
       "      <td></td>\n",
       "      <td></td>\n",
       "      <td></td>\n",
       "      <td></td>\n",
       "      <td></td>\n",
       "      <td></td>\n",
       "      <td></td>\n",
       "    </tr>\n",
       "  </tbody>\n",
       "</table>\n",
       "</div>"
      ],
      "text/plain": [
       "cohort_months            0         1         2         3         4         5   \\\n",
       "first_order_month                                                               \n",
       "2017-06            4.724414  0.485329  0.437637  0.954671  1.022531  0.735502   \n",
       "2017-07            6.010218  0.335211  0.623531  0.358976  0.176791  0.156048   \n",
       "2017-08            5.276518  0.471993  0.458482  0.391277  0.494051   0.28354   \n",
       "2017-09            5.644529  1.117586   0.52093  3.975792  0.400558  0.647067   \n",
       "2017-10            5.003733  0.535763  0.191394  0.157145   0.15156  0.120362   \n",
       "2017-11            5.154683  0.399233  0.199556  0.324952  0.148013  0.053879   \n",
       "2017-12            4.738191  0.260374  0.925097  1.065275   0.31293  0.338047   \n",
       "2018-01            4.135636  0.294758  0.304281  0.142778  0.062698             \n",
       "2018-02            4.156987  0.278274  0.078515  0.074144                       \n",
       "2018-03            4.838803  0.300892  0.315559                                 \n",
       "2018-04            4.657597  0.531599                                           \n",
       "2018-05            4.660562                                                     \n",
       "2018-06            3.420000                                                     \n",
       "\n",
       "cohort_months            6         7         8         9         10        11  \n",
       "first_order_month                                                              \n",
       "2017-06             0.95044  0.581592  0.553213  0.605788  0.571261  0.256856  \n",
       "2017-07            0.120208   0.14182  0.161232  0.147145  0.155673            \n",
       "2017-08            0.210664  0.405007  0.292212  0.187978                      \n",
       "2017-09            0.701608   0.24315  0.184006                                \n",
       "2017-10            0.084816   0.11547                                          \n",
       "2017-11            0.114928                                                    \n",
       "2017-12                                                                        \n",
       "2018-01                                                                        \n",
       "2018-02                                                                        \n",
       "2018-03                                                                        \n",
       "2018-04                                                                        \n",
       "2018-05                                                                        \n",
       "2018-06                                                                        "
      ]
     },
     "execution_count": 31,
     "metadata": {},
     "output_type": "execute_result"
    }
   ],
   "source": [
    "# Ahora si podemos caluclar el LTV:\n",
    "report['ltv'] = report['Revenue'] / report['n_buyers']\n",
    "\n",
    "output = report.pivot_table(\n",
    "    index='first_order_month', columns='cohort_months', values='ltv', aggfunc='mean'\n",
    ")\n",
    "\n",
    "output.fillna('') "
   ]
  },
  {
   "cell_type": "code",
   "execution_count": 32,
   "metadata": {},
   "outputs": [
    {
     "data": {
      "image/png": "[encoded data removed]",
      "text/plain": [
       "<Figure size 936x648 with 2 Axes>"
      ]
     },
     "metadata": {
      "needs_background": "light"
     },
     "output_type": "display_data"
    }
   ],
   "source": [
    "# Heatmap\n",
    "plt.figure(figsize=(13, 9))\n",
    "plt.title(\"Heatmap - Orders During Time\")\n",
    "sns.heatmap(\n",
    "    output,\n",
    "    annot=True,\n",
    "    fmt='.4f',\n",
    "    linewidths=1,\n",
    "    linecolor='gray',\n",
    ")\n",
    "plt.show()"
   ]
  },
  {
   "cell_type": "code",
   "execution_count": 33,
   "metadata": {},
   "outputs": [
    {
     "name": "stdout",
     "output_type": "stream",
     "text": [
      "LTV 2017-06: 11.88\n",
      "LTV 2017-07: 8.39\n",
      "LTV 2017-08: 8.47\n",
      "LTV 2017-09: 13.44\n",
      "LTV 2017-10: 6.36\n",
      "LTV 2017-11: 6.40\n",
      "LTV 2017-12: 7.64\n",
      "LTV 2018-01: 4.94\n",
      "LTV 2018-02: 4.59\n",
      "LTV 2018-03: 5.46\n",
      "LTV 2018-04: 5.19\n",
      "LTV 2018-05: 4.66\n",
      "LTV 2018-06: 3.42\n"
     ]
    }
   ],
   "source": [
    "# Encontremos el LTV de cada cohorte sumando el valor de cada mes:\n",
    "for cohort_month, row in output.iterrows():\n",
    "    ltv_cohort = row.sum()\n",
    "    print(f\"LTV {cohort_month}: {ltv_cohort:.2f}\")"
   ]
  },
  {
   "cell_type": "markdown",
   "metadata": {},
   "source": [
    "Estos valores son los promedios de ingresos generados por cada cliente en cada cohorte durante todo el año analizado."
   ]
  },
  {
   "cell_type": "code",
   "execution_count": 34,
   "metadata": {},
   "outputs": [
    {
     "data": {
      "image/png": "[encoded data removed]",
      "text/plain": [
       "<Figure size 720x432 with 1 Axes>"
      ]
     },
     "metadata": {
      "needs_background": "light"
     },
     "output_type": "display_data"
    }
   ],
   "source": [
    "# Veamos estos valores en una gráfica\n",
    "cohort_months = output.index\n",
    "ltv_values = []\n",
    "\n",
    "for _, row in output.iterrows():\n",
    "    ltv_cohort = row.sum()\n",
    "    ltv_values.append(ltv_cohort)\n",
    "\n",
    "plt.figure(figsize=(10, 6))\n",
    "plt.bar(cohort_months, ltv_values)\n",
    "plt.title('Cohort LTV')\n",
    "plt.xlabel('Cohort Month')\n",
    "plt.ylabel('LTV')\n",
    "plt.xticks(rotation=45)\n",
    "plt.show()"
   ]
  },
  {
   "cell_type": "markdown",
   "metadata": {},
   "source": [
    "- Como podemos ver, la cohorte de junio de 2017 (2017-06) tiene el LTV más alto, con un valor de 11.88. Esto sugiere que los clientes que realizaron su primera compra en ese mes tienen un mayor valor de vida útil, lo que implica que generan más ingresos a lo largo del tiempo.\n",
    "- A medida que avanzamos en el tiempo, el LTV tiende a disminuir. Las cohortes más recientes, como la de junio de 2018 (2018-06), tienen valores de LTV más bajos (3.42), lo que puede indicar que estos clientes tienen un menor valor de vida útil o un comportamiento de compra menos activo.\n",
    "\n",
    "En general, se puede decir que las cohortes más tempranas tienden a tener un mayor LTV, lo que indica una mayor rentabilidad y valor a largo plazo de los clientes adquiridos en esos períodos. Esto nos ayuda a valorar y tener más presente la importancia de fomentar la lealtad y retención de clientes."
   ]
  },
  {
   "cell_type": "markdown",
   "metadata": {},
   "source": [
    "3. **Marketing:**\n",
    "- ¿Cuánto dinero se gastó? (Total/por fuente/a lo largo del tiempo)\n",
    "- ¿Cuánto costó la adquisición de clientes de cada una de las fuentes?\n",
    "- ¿Cuán rentables eran las inversiones? (ROI)\n",
    "\n",
    "Trazaremos gráficos para mostrar cómo difieren estas métricas para varios dispositivos y fuentes de anuncios y cómo cambian con el tiempo."
   ]
  },
  {
   "cell_type": "code",
   "execution_count": 35,
   "metadata": {},
   "outputs": [
    {
     "name": "stdout",
     "output_type": "stream",
     "text": [
      "Total de gastos del equipo de Marketing: 329131.62\n"
     ]
    }
   ],
   "source": [
    "# ¿Cuánto dinero se gastó? (Total)\n",
    "total_costs = costs['costs'].sum()\n",
    "print(\"Total de gastos del equipo de Marketing:\", total_costs)"
   ]
  },
  {
   "cell_type": "code",
   "execution_count": 36,
   "metadata": {},
   "outputs": [
    {
     "name": "stdout",
     "output_type": "stream",
     "text": [
      "Gasto por fuente:\n",
      "   source_id      costs\n",
      "0          1   20833.27\n",
      "1          2   42806.04\n",
      "2          3  141321.63\n",
      "3          4   61073.60\n",
      "4          5   51757.10\n",
      "5          9    5517.49\n",
      "6         10    5822.49\n"
     ]
    }
   ],
   "source": [
    "# ¿Cuánto dinero se gastó? (Por fuente)\n",
    "spent_by_source = costs.groupby('source_id').agg({'costs':'sum'}).reset_index()\n",
    "print(\"Gasto por fuente:\")\n",
    "print(spent_by_source)"
   ]
  },
  {
   "cell_type": "code",
   "execution_count": 37,
   "metadata": {},
   "outputs": [
    {
     "data": {
      "text/plain": [
       "<Figure size 720x432 with 0 Axes>"
      ]
     },
     "metadata": {},
     "output_type": "display_data"
    },
    {
     "data": {
      "image/png": "[encoded data removed]",
      "text/plain": [
       "<Figure size 432x288 with 1 Axes>"
      ]
     },
     "metadata": {
      "needs_background": "light"
     },
     "output_type": "display_data"
    }
   ],
   "source": [
    "# Graficamos cuanto dinero se gastó por fuente\n",
    "plt.figure(figsize=(10, 6))\n",
    "spent_by_source.plot(kind='bar')\n",
    "plt.title('Costs By Source')\n",
    "plt.xlabel('Source')\n",
    "plt.ylabel('Costs')\n",
    "plt.xticks(rotation=0)\n",
    "plt.grid(True)\n",
    "plt.show()"
   ]
  },
  {
   "cell_type": "markdown",
   "metadata": {},
   "source": [
    "- Como podemos ver, **la fuente de adquisición con el mayor gasto es la fuente 3**, con un total de **141,321.63 unidades monetarias.** Seguido de la fuente 4 que también muestra un gasto considerable de 61,073.60 unidades monetarias.\n",
    "- Estos datos junto con el retorno de inversión será de mucha ayuda para el equipo de Marketing, ya que ayudará a tomar desiciones sobre recursos y asigranciones de presupuesto."
   ]
  },
  {
   "cell_type": "code",
   "execution_count": 38,
   "metadata": {},
   "outputs": [
    {
     "name": "stdout",
     "output_type": "stream",
     "text": [
      "Gasto a lo largo del tiempo:\n",
      "            source_id     costs\n",
      "dt                             \n",
      "2017-06-30       1020  18015.00\n",
      "2017-07-31       1054  18240.59\n",
      "2017-08-31       1054  14790.54\n",
      "2017-09-30       1020  24368.91\n",
      "2017-10-31       1054  36322.88\n",
      "2017-11-30       1020  37907.88\n",
      "2017-12-31       1054  38315.35\n",
      "2018-01-31       1054  33518.52\n",
      "2018-02-28        952  32723.03\n",
      "2018-03-31       1025  30415.27\n",
      "2018-04-30        986  22289.38\n",
      "2018-05-31       1054  22224.27\n"
     ]
    }
   ],
   "source": [
    "# ¿Cuánto dinero se gastó? (A lo largo del tiempo)\n",
    "costs['dt'] = pd.to_datetime(costs['dt'])\n",
    "costs_over_time = costs.groupby(pd.Grouper(key='dt', freq='M')).sum()\n",
    "print(\"Gasto a lo largo del tiempo:\")\n",
    "print(costs_over_time)"
   ]
  },
  {
   "cell_type": "code",
   "execution_count": 39,
   "metadata": {},
   "outputs": [
    {
     "data": {
      "image/png": "[encoded data removed]",
      "text/plain": [
       "<Figure size 864x432 with 1 Axes>"
      ]
     },
     "metadata": {
      "needs_background": "light"
     },
     "output_type": "display_data"
    }
   ],
   "source": [
    "# Graficamos el gasto a lo largo del tiempo\n",
    "plt.figure(figsize=(12, 6))\n",
    "plt.plot(costs_over_time.index, costs_over_time['costs'])\n",
    "plt.title('Costs over time')\n",
    "plt.xlabel('Date')\n",
    "plt.ylabel('Costs')\n",
    "plt.xticks(rotation=45, ha='right')\n",
    "plt.xticks(costs_over_time.index, rotation=45)\n",
    "plt.grid(True)\n",
    "plt.show()"
   ]
  },
  {
   "cell_type": "markdown",
   "metadata": {},
   "source": [
    "En general, se observa un **aumento gradual del gasto en los primeros meses** (a partir del mes de Agosto), con un pico alcanzado en octubre de 2017, seguido de una ligera disminución hacia finales de año."
   ]
  },
  {
   "cell_type": "markdown",
   "metadata": {},
   "source": [
    "- ¿Cuánto costó la adquisición de clientes de cada una de las fuentes? (CAC)"
   ]
  },
  {
   "cell_type": "code",
   "execution_count": 40,
   "metadata": {},
   "outputs": [
    {
     "data": {
      "text/html": [
       "<div>\n",
       "<style scoped>\n",
       "    .dataframe tbody tr th:only-of-type {\n",
       "        vertical-align: middle;\n",
       "    }\n",
       "\n",
       "    .dataframe tbody tr th {\n",
       "        vertical-align: top;\n",
       "    }\n",
       "\n",
       "    .dataframe thead th {\n",
       "        text-align: right;\n",
       "    }\n",
       "</style>\n",
       "<table border=\"1\" class=\"dataframe\">\n",
       "  <thead>\n",
       "    <tr style=\"text-align: right;\">\n",
       "      <th></th>\n",
       "      <th>month</th>\n",
       "      <th>costs</th>\n",
       "    </tr>\n",
       "  </thead>\n",
       "  <tbody>\n",
       "    <tr>\n",
       "      <th>0</th>\n",
       "      <td>2017-06</td>\n",
       "      <td>18015.00</td>\n",
       "    </tr>\n",
       "    <tr>\n",
       "      <th>1</th>\n",
       "      <td>2017-07</td>\n",
       "      <td>18240.59</td>\n",
       "    </tr>\n",
       "    <tr>\n",
       "      <th>2</th>\n",
       "      <td>2017-08</td>\n",
       "      <td>14790.54</td>\n",
       "    </tr>\n",
       "    <tr>\n",
       "      <th>3</th>\n",
       "      <td>2017-09</td>\n",
       "      <td>24368.91</td>\n",
       "    </tr>\n",
       "    <tr>\n",
       "      <th>4</th>\n",
       "      <td>2017-10</td>\n",
       "      <td>36322.88</td>\n",
       "    </tr>\n",
       "    <tr>\n",
       "      <th>5</th>\n",
       "      <td>2017-11</td>\n",
       "      <td>37907.88</td>\n",
       "    </tr>\n",
       "    <tr>\n",
       "      <th>6</th>\n",
       "      <td>2017-12</td>\n",
       "      <td>38315.35</td>\n",
       "    </tr>\n",
       "    <tr>\n",
       "      <th>7</th>\n",
       "      <td>2018-01</td>\n",
       "      <td>33518.52</td>\n",
       "    </tr>\n",
       "    <tr>\n",
       "      <th>8</th>\n",
       "      <td>2018-02</td>\n",
       "      <td>32723.03</td>\n",
       "    </tr>\n",
       "    <tr>\n",
       "      <th>9</th>\n",
       "      <td>2018-03</td>\n",
       "      <td>30415.27</td>\n",
       "    </tr>\n",
       "    <tr>\n",
       "      <th>10</th>\n",
       "      <td>2018-04</td>\n",
       "      <td>22289.38</td>\n",
       "    </tr>\n",
       "    <tr>\n",
       "      <th>11</th>\n",
       "      <td>2018-05</td>\n",
       "      <td>22224.27</td>\n",
       "    </tr>\n",
       "  </tbody>\n",
       "</table>\n",
       "</div>"
      ],
      "text/plain": [
       "      month     costs\n",
       "0   2017-06  18015.00\n",
       "1   2017-07  18240.59\n",
       "2   2017-08  14790.54\n",
       "3   2017-09  24368.91\n",
       "4   2017-10  36322.88\n",
       "5   2017-11  37907.88\n",
       "6   2017-12  38315.35\n",
       "7   2018-01  33518.52\n",
       "8   2018-02  32723.03\n",
       "9   2018-03  30415.27\n",
       "10  2018-04  22289.38\n",
       "11  2018-05  22224.27"
      ]
     },
     "execution_count": 40,
     "metadata": {},
     "output_type": "execute_result"
    }
   ],
   "source": [
    "# Buscamos los gastos de cada mes\n",
    "costs['month'] = costs['dt'].astype('datetime64[M]')\n",
    "expense_per_month = costs.groupby('month').agg({'costs':'sum'}).reset_index()\n",
    "expense_per_month['month'] = expense_per_month['month'].dt.strftime('%Y-%m') \n",
    "expense_per_month"
   ]
  },
  {
   "cell_type": "code",
   "execution_count": 41,
   "metadata": {},
   "outputs": [
    {
     "data": {
      "text/html": [
       "<div>\n",
       "<style scoped>\n",
       "    .dataframe tbody tr th:only-of-type {\n",
       "        vertical-align: middle;\n",
       "    }\n",
       "\n",
       "    .dataframe tbody tr th {\n",
       "        vertical-align: top;\n",
       "    }\n",
       "\n",
       "    .dataframe thead th {\n",
       "        text-align: right;\n",
       "    }\n",
       "</style>\n",
       "<table border=\"1\" class=\"dataframe\">\n",
       "  <thead>\n",
       "    <tr style=\"text-align: right;\">\n",
       "      <th></th>\n",
       "      <th>Source Id</th>\n",
       "      <th>n_visitors</th>\n",
       "      <th>costs</th>\n",
       "      <th>cac</th>\n",
       "    </tr>\n",
       "  </thead>\n",
       "  <tbody>\n",
       "    <tr>\n",
       "      <th>0</th>\n",
       "      <td>1</td>\n",
       "      <td>18999</td>\n",
       "      <td>42806.04</td>\n",
       "      <td>2.253068</td>\n",
       "    </tr>\n",
       "    <tr>\n",
       "      <th>1</th>\n",
       "      <td>2</td>\n",
       "      <td>26245</td>\n",
       "      <td>141321.63</td>\n",
       "      <td>5.384707</td>\n",
       "    </tr>\n",
       "    <tr>\n",
       "      <th>2</th>\n",
       "      <td>3</td>\n",
       "      <td>74756</td>\n",
       "      <td>61073.60</td>\n",
       "      <td>0.816973</td>\n",
       "    </tr>\n",
       "    <tr>\n",
       "      <th>3</th>\n",
       "      <td>4</td>\n",
       "      <td>83525</td>\n",
       "      <td>51757.10</td>\n",
       "      <td>0.619660</td>\n",
       "    </tr>\n",
       "    <tr>\n",
       "      <th>4</th>\n",
       "      <td>5</td>\n",
       "      <td>56974</td>\n",
       "      <td>5517.49</td>\n",
       "      <td>0.096842</td>\n",
       "    </tr>\n",
       "    <tr>\n",
       "      <th>5</th>\n",
       "      <td>6</td>\n",
       "      <td>6</td>\n",
       "      <td>5822.49</td>\n",
       "      <td>970.415000</td>\n",
       "    </tr>\n",
       "    <tr>\n",
       "      <th>6</th>\n",
       "      <td>7</td>\n",
       "      <td>34</td>\n",
       "      <td>NaN</td>\n",
       "      <td>NaN</td>\n",
       "    </tr>\n",
       "    <tr>\n",
       "      <th>7</th>\n",
       "      <td>9</td>\n",
       "      <td>9264</td>\n",
       "      <td>NaN</td>\n",
       "      <td>NaN</td>\n",
       "    </tr>\n",
       "    <tr>\n",
       "      <th>8</th>\n",
       "      <td>10</td>\n",
       "      <td>8067</td>\n",
       "      <td>NaN</td>\n",
       "      <td>NaN</td>\n",
       "    </tr>\n",
       "  </tbody>\n",
       "</table>\n",
       "</div>"
      ],
      "text/plain": [
       "   Source Id  n_visitors      costs         cac\n",
       "0          1       18999   42806.04    2.253068\n",
       "1          2       26245  141321.63    5.384707\n",
       "2          3       74756   61073.60    0.816973\n",
       "3          4       83525   51757.10    0.619660\n",
       "4          5       56974    5517.49    0.096842\n",
       "5          6           6    5822.49  970.415000\n",
       "6          7          34        NaN         NaN\n",
       "7          9        9264        NaN         NaN\n",
       "8         10        8067        NaN         NaN"
      ]
     },
     "execution_count": 41,
     "metadata": {},
     "output_type": "execute_result"
    }
   ],
   "source": [
    "# Calculamos el CAC Source Id / n_visitors\n",
    "source_sizes = visits.groupby('Source Id').agg({'Uid': 'nunique'}).reset_index()\n",
    "source_sizes.columns = ['Source Id', 'n_visitors']\n",
    "\n",
    "cac_report = source_sizes.join(spent_by_source['costs'], how='left', on = 'Source Id')\n",
    "cac_report['cac'] = cac_report['costs'] / cac_report['n_visitors']\n",
    "cac_report"
   ]
  },
  {
   "cell_type": "markdown",
   "metadata": {},
   "source": [
    "el CAC representa el costo promedio de adquirir un cliente de cada fuente de origen.\n",
    "\n",
    "Ahora vamos a agregar esta tabla a la tabla report para tener todos los datos necesarios para calcular el ROI en un mismo Dataframe."
   ]
  },
  {
   "cell_type": "code",
   "execution_count": 42,
   "metadata": {},
   "outputs": [
    {
     "data": {
      "text/html": [
       "<div>\n",
       "<style scoped>\n",
       "    .dataframe tbody tr th:only-of-type {\n",
       "        vertical-align: middle;\n",
       "    }\n",
       "\n",
       "    .dataframe tbody tr th {\n",
       "        vertical-align: top;\n",
       "    }\n",
       "\n",
       "    .dataframe thead th {\n",
       "        text-align: right;\n",
       "    }\n",
       "</style>\n",
       "<table border=\"1\" class=\"dataframe\">\n",
       "  <thead>\n",
       "    <tr style=\"text-align: right;\">\n",
       "      <th></th>\n",
       "      <th>first_order_month</th>\n",
       "      <th>n_buyers</th>\n",
       "      <th>cohort_months</th>\n",
       "      <th>order_month</th>\n",
       "      <th>Revenue</th>\n",
       "      <th>ltv</th>\n",
       "      <th>month</th>\n",
       "      <th>costs</th>\n",
       "      <th>cac</th>\n",
       "    </tr>\n",
       "  </thead>\n",
       "  <tbody>\n",
       "    <tr>\n",
       "      <th>0</th>\n",
       "      <td>2017-06</td>\n",
       "      <td>2023</td>\n",
       "      <td>0</td>\n",
       "      <td>2017-06-01</td>\n",
       "      <td>9557.49</td>\n",
       "      <td>4.724414</td>\n",
       "      <td>2017-06</td>\n",
       "      <td>18015.0</td>\n",
       "      <td>8.905091</td>\n",
       "    </tr>\n",
       "    <tr>\n",
       "      <th>1</th>\n",
       "      <td>2017-06</td>\n",
       "      <td>2023</td>\n",
       "      <td>1</td>\n",
       "      <td>2017-07-01</td>\n",
       "      <td>981.82</td>\n",
       "      <td>0.485329</td>\n",
       "      <td>2017-06</td>\n",
       "      <td>18015.0</td>\n",
       "      <td>8.905091</td>\n",
       "    </tr>\n",
       "    <tr>\n",
       "      <th>2</th>\n",
       "      <td>2017-06</td>\n",
       "      <td>2023</td>\n",
       "      <td>2</td>\n",
       "      <td>2017-08-01</td>\n",
       "      <td>885.34</td>\n",
       "      <td>0.437637</td>\n",
       "      <td>2017-06</td>\n",
       "      <td>18015.0</td>\n",
       "      <td>8.905091</td>\n",
       "    </tr>\n",
       "    <tr>\n",
       "      <th>3</th>\n",
       "      <td>2017-06</td>\n",
       "      <td>2023</td>\n",
       "      <td>3</td>\n",
       "      <td>2017-09-01</td>\n",
       "      <td>1931.30</td>\n",
       "      <td>0.954671</td>\n",
       "      <td>2017-06</td>\n",
       "      <td>18015.0</td>\n",
       "      <td>8.905091</td>\n",
       "    </tr>\n",
       "    <tr>\n",
       "      <th>4</th>\n",
       "      <td>2017-06</td>\n",
       "      <td>2023</td>\n",
       "      <td>4</td>\n",
       "      <td>2017-10-01</td>\n",
       "      <td>2068.58</td>\n",
       "      <td>1.022531</td>\n",
       "      <td>2017-06</td>\n",
       "      <td>18015.0</td>\n",
       "      <td>8.905091</td>\n",
       "    </tr>\n",
       "  </tbody>\n",
       "</table>\n",
       "</div>"
      ],
      "text/plain": [
       "  first_order_month  n_buyers  cohort_months order_month  Revenue       ltv  \\\n",
       "0           2017-06      2023              0  2017-06-01  9557.49  4.724414   \n",
       "1           2017-06      2023              1  2017-07-01   981.82  0.485329   \n",
       "2           2017-06      2023              2  2017-08-01   885.34  0.437637   \n",
       "3           2017-06      2023              3  2017-09-01  1931.30  0.954671   \n",
       "4           2017-06      2023              4  2017-10-01  2068.58  1.022531   \n",
       "\n",
       "     month    costs       cac  \n",
       "0  2017-06  18015.0  8.905091  \n",
       "1  2017-06  18015.0  8.905091  \n",
       "2  2017-06  18015.0  8.905091  \n",
       "3  2017-06  18015.0  8.905091  \n",
       "4  2017-06  18015.0  8.905091  "
      ]
     },
     "execution_count": 42,
     "metadata": {},
     "output_type": "execute_result"
    }
   ],
   "source": [
    "report_= pd.merge(report, expense_per_month[['month', 'costs']], left_on='first_order_month', right_on='month')\n",
    "report_['cac'] = report_['costs'] / report_['n_buyers']\n",
    "report_.head()"
   ]
  },
  {
   "cell_type": "markdown",
   "metadata": {},
   "source": [
    "Y ahora busquemos el ROMI (retorno de la inversión en marketing, o return on marketing investment en inglés) dividiendo el LTV por el CAC."
   ]
  },
  {
   "cell_type": "markdown",
   "metadata": {},
   "source": [
    "- ¿Cuán rentables eran las inversiones? (ROI)"
   ]
  },
  {
   "cell_type": "code",
   "execution_count": 43,
   "metadata": {},
   "outputs": [
    {
     "data": {
      "text/html": [
       "<div>\n",
       "<style scoped>\n",
       "    .dataframe tbody tr th:only-of-type {\n",
       "        vertical-align: middle;\n",
       "    }\n",
       "\n",
       "    .dataframe tbody tr th {\n",
       "        vertical-align: top;\n",
       "    }\n",
       "\n",
       "    .dataframe thead th {\n",
       "        text-align: right;\n",
       "    }\n",
       "</style>\n",
       "<table border=\"1\" class=\"dataframe\">\n",
       "  <thead>\n",
       "    <tr style=\"text-align: right;\">\n",
       "      <th>cohort_months</th>\n",
       "      <th>0</th>\n",
       "      <th>1</th>\n",
       "      <th>2</th>\n",
       "      <th>3</th>\n",
       "      <th>4</th>\n",
       "      <th>5</th>\n",
       "      <th>6</th>\n",
       "      <th>7</th>\n",
       "      <th>8</th>\n",
       "      <th>9</th>\n",
       "      <th>10</th>\n",
       "      <th>11</th>\n",
       "    </tr>\n",
       "    <tr>\n",
       "      <th>first_order_month</th>\n",
       "      <th></th>\n",
       "      <th></th>\n",
       "      <th></th>\n",
       "      <th></th>\n",
       "      <th></th>\n",
       "      <th></th>\n",
       "      <th></th>\n",
       "      <th></th>\n",
       "      <th></th>\n",
       "      <th></th>\n",
       "      <th></th>\n",
       "      <th></th>\n",
       "    </tr>\n",
       "  </thead>\n",
       "  <tbody>\n",
       "    <tr>\n",
       "      <th>2017-06</th>\n",
       "      <td>0.53</td>\n",
       "      <td>0.59</td>\n",
       "      <td>0.63</td>\n",
       "      <td>0.74</td>\n",
       "      <td>0.86</td>\n",
       "      <td>0.94</td>\n",
       "      <td>1.05</td>\n",
       "      <td>1.11</td>\n",
       "      <td>1.17</td>\n",
       "      <td>1.24</td>\n",
       "      <td>1.31</td>\n",
       "      <td>1.33</td>\n",
       "    </tr>\n",
       "    <tr>\n",
       "      <th>2017-07</th>\n",
       "      <td>0.63</td>\n",
       "      <td>0.67</td>\n",
       "      <td>0.73</td>\n",
       "      <td>0.77</td>\n",
       "      <td>0.79</td>\n",
       "      <td>0.81</td>\n",
       "      <td>0.82</td>\n",
       "      <td>0.84</td>\n",
       "      <td>0.85</td>\n",
       "      <td>0.87</td>\n",
       "      <td>0.88</td>\n",
       "      <td></td>\n",
       "    </tr>\n",
       "    <tr>\n",
       "      <th>2017-08</th>\n",
       "      <td>0.49</td>\n",
       "      <td>0.53</td>\n",
       "      <td>0.57</td>\n",
       "      <td>0.61</td>\n",
       "      <td>0.66</td>\n",
       "      <td>0.68</td>\n",
       "      <td>0.7</td>\n",
       "      <td>0.74</td>\n",
       "      <td>0.77</td>\n",
       "      <td>0.78</td>\n",
       "      <td></td>\n",
       "      <td></td>\n",
       "    </tr>\n",
       "    <tr>\n",
       "      <th>2017-09</th>\n",
       "      <td>0.60</td>\n",
       "      <td>0.72</td>\n",
       "      <td>0.77</td>\n",
       "      <td>1.19</td>\n",
       "      <td>1.23</td>\n",
       "      <td>1.3</td>\n",
       "      <td>1.38</td>\n",
       "      <td>1.4</td>\n",
       "      <td>1.42</td>\n",
       "      <td></td>\n",
       "      <td></td>\n",
       "      <td></td>\n",
       "    </tr>\n",
       "    <tr>\n",
       "      <th>2017-10</th>\n",
       "      <td>0.60</td>\n",
       "      <td>0.66</td>\n",
       "      <td>0.68</td>\n",
       "      <td>0.7</td>\n",
       "      <td>0.72</td>\n",
       "      <td>0.74</td>\n",
       "      <td>0.75</td>\n",
       "      <td>0.76</td>\n",
       "      <td></td>\n",
       "      <td></td>\n",
       "      <td></td>\n",
       "      <td></td>\n",
       "    </tr>\n",
       "    <tr>\n",
       "      <th>2017-11</th>\n",
       "      <td>0.55</td>\n",
       "      <td>0.6</td>\n",
       "      <td>0.62</td>\n",
       "      <td>0.65</td>\n",
       "      <td>0.67</td>\n",
       "      <td>0.68</td>\n",
       "      <td>0.69</td>\n",
       "      <td></td>\n",
       "      <td></td>\n",
       "      <td></td>\n",
       "      <td></td>\n",
       "      <td></td>\n",
       "    </tr>\n",
       "    <tr>\n",
       "      <th>2017-12</th>\n",
       "      <td>0.54</td>\n",
       "      <td>0.57</td>\n",
       "      <td>0.68</td>\n",
       "      <td>0.8</td>\n",
       "      <td>0.84</td>\n",
       "      <td>0.87</td>\n",
       "      <td></td>\n",
       "      <td></td>\n",
       "      <td></td>\n",
       "      <td></td>\n",
       "      <td></td>\n",
       "      <td></td>\n",
       "    </tr>\n",
       "    <tr>\n",
       "      <th>2018-01</th>\n",
       "      <td>0.42</td>\n",
       "      <td>0.45</td>\n",
       "      <td>0.48</td>\n",
       "      <td>0.49</td>\n",
       "      <td>0.5</td>\n",
       "      <td></td>\n",
       "      <td></td>\n",
       "      <td></td>\n",
       "      <td></td>\n",
       "      <td></td>\n",
       "      <td></td>\n",
       "      <td></td>\n",
       "    </tr>\n",
       "    <tr>\n",
       "      <th>2018-02</th>\n",
       "      <td>0.46</td>\n",
       "      <td>0.49</td>\n",
       "      <td>0.5</td>\n",
       "      <td>0.51</td>\n",
       "      <td></td>\n",
       "      <td></td>\n",
       "      <td></td>\n",
       "      <td></td>\n",
       "      <td></td>\n",
       "      <td></td>\n",
       "      <td></td>\n",
       "      <td></td>\n",
       "    </tr>\n",
       "    <tr>\n",
       "      <th>2018-03</th>\n",
       "      <td>0.56</td>\n",
       "      <td>0.6</td>\n",
       "      <td>0.63</td>\n",
       "      <td></td>\n",
       "      <td></td>\n",
       "      <td></td>\n",
       "      <td></td>\n",
       "      <td></td>\n",
       "      <td></td>\n",
       "      <td></td>\n",
       "      <td></td>\n",
       "      <td></td>\n",
       "    </tr>\n",
       "    <tr>\n",
       "      <th>2018-04</th>\n",
       "      <td>0.48</td>\n",
       "      <td>0.53</td>\n",
       "      <td></td>\n",
       "      <td></td>\n",
       "      <td></td>\n",
       "      <td></td>\n",
       "      <td></td>\n",
       "      <td></td>\n",
       "      <td></td>\n",
       "      <td></td>\n",
       "      <td></td>\n",
       "      <td></td>\n",
       "    </tr>\n",
       "    <tr>\n",
       "      <th>2018-05</th>\n",
       "      <td>0.63</td>\n",
       "      <td></td>\n",
       "      <td></td>\n",
       "      <td></td>\n",
       "      <td></td>\n",
       "      <td></td>\n",
       "      <td></td>\n",
       "      <td></td>\n",
       "      <td></td>\n",
       "      <td></td>\n",
       "      <td></td>\n",
       "      <td></td>\n",
       "    </tr>\n",
       "  </tbody>\n",
       "</table>\n",
       "</div>"
      ],
      "text/plain": [
       "cohort_months        0     1     2     3     4     5     6     7     8     9   \\\n",
       "first_order_month                                                               \n",
       "2017-06            0.53  0.59  0.63  0.74  0.86  0.94  1.05  1.11  1.17  1.24   \n",
       "2017-07            0.63  0.67  0.73  0.77  0.79  0.81  0.82  0.84  0.85  0.87   \n",
       "2017-08            0.49  0.53  0.57  0.61  0.66  0.68   0.7  0.74  0.77  0.78   \n",
       "2017-09            0.60  0.72  0.77  1.19  1.23   1.3  1.38   1.4  1.42         \n",
       "2017-10            0.60  0.66  0.68   0.7  0.72  0.74  0.75  0.76               \n",
       "2017-11            0.55   0.6  0.62  0.65  0.67  0.68  0.69                     \n",
       "2017-12            0.54  0.57  0.68   0.8  0.84  0.87                           \n",
       "2018-01            0.42  0.45  0.48  0.49   0.5                                 \n",
       "2018-02            0.46  0.49   0.5  0.51                                       \n",
       "2018-03            0.56   0.6  0.63                                             \n",
       "2018-04            0.48  0.53                                                   \n",
       "2018-05            0.63                                                         \n",
       "\n",
       "cohort_months        10    11  \n",
       "first_order_month              \n",
       "2017-06            1.31  1.33  \n",
       "2017-07            0.88        \n",
       "2017-08                        \n",
       "2017-09                        \n",
       "2017-10                        \n",
       "2017-11                        \n",
       "2017-12                        \n",
       "2018-01                        \n",
       "2018-02                        \n",
       "2018-03                        \n",
       "2018-04                        \n",
       "2018-05                        "
      ]
     },
     "execution_count": 43,
     "metadata": {},
     "output_type": "execute_result"
    }
   ],
   "source": [
    "report_['romi'] = report_['ltv'] / report_['cac']\n",
    "roi_output = report_.pivot_table(\n",
    "    index='first_order_month', columns='cohort_months', values='romi', aggfunc='mean'\n",
    ")\n",
    "\n",
    "cum_roi_output = roi_output.cumsum(axis=1).round(2)\n",
    "cum_roi_output.fillna('')"
   ]
  },
  {
   "cell_type": "code",
   "execution_count": 44,
   "metadata": {},
   "outputs": [
    {
     "data": {
      "image/png": "[encoded data removed]",
      "text/plain": [
       "<Figure size 936x648 with 2 Axes>"
      ]
     },
     "metadata": {
      "needs_background": "light"
     },
     "output_type": "display_data"
    }
   ],
   "source": [
    "# Heatmap\n",
    "plt.figure(figsize=(13, 9))\n",
    "plt.title(\"ROMI\")\n",
    "sns.heatmap(\n",
    "    cum_roi_output,\n",
    "    annot=True,\n",
    "    fmt='.2f',\n",
    "    linewidths=1,\n",
    "    linecolor='gray',\n",
    ")\n",
    "plt.show()"
   ]
  },
  {
   "cell_type": "markdown",
   "metadata": {},
   "source": [
    "- La tabla muestra la rentabilidad acumulada para cada cohorte en función del número de meses transcurridos. Los valores acumulados representan la relación entre el valor del LTV (Lifetime Value) y el costo de adquisición del cliente (CAC) durante el período de tiempo.\n",
    "- En general, a medida que aumenta el número de meses transcurridos desde la adquisición inicial, se observa un aumento en el ROMI acumulado. Esto indica que, en promedio, los ingresos generados por los clientes superan el costo de adquisición con el tiempo.\n",
    "- La cohorte de junio valió la pena en el 7.° mes (ROMI = 1.05)\n",
    "- Luego en septiembre, en el 4.° mes (ROMI = 1.19)\n",
    "- Todas las demás cohortes no consiguieron compensar las inversiones hasta las fechas analizadas."
   ]
  },
  {
   "cell_type": "code",
   "execution_count": 45,
   "metadata": {},
   "outputs": [
    {
     "name": "stdout",
     "output_type": "stream",
     "text": [
      "cohort_months\n",
      "0     0.540833\n",
      "1     0.582727\n",
      "2     0.629000\n",
      "3     0.717778\n",
      "4     0.783750\n",
      "5     0.860000\n",
      "6     0.898333\n",
      "7     0.970000\n",
      "8     1.052500\n",
      "9     0.963333\n",
      "10    1.095000\n",
      "11    1.330000\n",
      "dtype: float64\n"
     ]
    }
   ],
   "source": [
    "average_compensation = cum_roi_output.mean(axis=0)\n",
    "print(average_compensation)"
   ]
  },
  {
   "cell_type": "markdown",
   "metadata": {},
   "source": [
    "En promedio, las cohortes compensan a partir del final del 7.º mes. Debemos tener en cuenta que los mayores gastos fueron en los meses:\n",
    "\n",
    "- 2017-10\t/ 36322.88\n",
    "- 2017-11\t/ 37907.88\n",
    "- 2017-12\t/ 38315.35\n",
    "\n",
    "Lo cual ayudó a que los últimos meses fueran fructiferos para la empresa a esa magnitud."
   ]
  },
  {
   "cell_type": "markdown",
   "metadata": {},
   "source": [
    "## Conclusiones"
   ]
  },
  {
   "cell_type": "markdown",
   "metadata": {},
   "source": [
    "En resumen, el equipo de marketing debe enfocarse en optimizar la adquisición de clientes, retener a los clientes existentes y realizar un seguimiento cercano de los costos y gastos. Al analizar el retorno de inversión de las cohortes, se pueden tomar decisiones informadas y estratégicas para garantizar la rentabilidad y el crecimiento sostenible del negocio.\n",
    "\n",
    "\n",
    "Puntos a tener en cuenta:\n",
    "\n",
    "- Eficiencia en la adquisición de clientes: Es importante optimizar las estrategias de adquisición de clientes para minimizar los costos y maximizar el retorno de inversión. Esto implica identificar los canales y tácticas más efectivas para alcanzar al público objetivo de manera eficiente.\n",
    "**canal con más visitantes: 4 con 83525 visitantes**\n",
    "\n",
    "\n",
    "- Retención de clientes: Fomentar la retención de clientes existentes puede ser fundamental para aumentar el valor de vida del cliente (LTV) y mejorar el retorno de inversión. Esto implica implementar estrategias de fidelización, ofrecer una excelente experiencia al cliente y brindar incentivos para que los clientes regresen y realicen compras repetidas.\n",
    "\n",
    "\n",
    "En resumen, el equipo de marketing debe enfocarse en optimizar la adquisición de clientes, retener a los clientes existentes y realizar un seguimiento cercano de los costos y gastos. "
   ]
  },
  {
   "cell_type": "markdown",
   "metadata": {},
   "source": [
    "**A continuación, describiré los pasos generales que he seguido en este proyecto:**\n",
    "\n",
    "- **Recopilación de datos:** Inicié el proyecto obteniendo los registros del servidor que contienen información sobre las visitas a Y.Afisha desde enero de 2017 hasta diciembre de 2018. Además, utilicé el archivo que contiene todos los pedidos realizados durante ese período. También revisé las estadísticas de gastos de marketing para tener una visión general de cómo se han asignado los recursos en ese periodo de tiempo.\n",
    "\n",
    "- **Análisis del comportamiento del usuario:** Utilicé los registros del servidor y los datos de visitas para comprender cómo la gente utiliza nuestro producto. Examiné las páginas más visitadas, la duración promedio de las sesiones y otros indicadores relevantes para obtener una visión completa del comportamiento de los usuarios.\n",
    "\n",
    "- **Análisis de la adquisición de clientes:** Investigé cuándo los usuarios comienzan a realizar compras después de su primera visita. Utilicé los datos de pedidos para identificar los patrones de compra y determinar el tiempo promedio que transcurre desde la primera visita hasta la primera compra.\n",
    "\n",
    "- **Evaluación del valor del cliente:** Analicé cuánto dinero genera cada cliente para nuestro negocio. Utilicé los datos de pedidos para calcular el valor promedio de cada cliente y también examiné la distribución de los ingresos generados por los clientes.\n",
    "\n",
    "- **Análisis del ciclo de vida del cliente:** Estudié cuándo los clientes realizan los pagos. Utilicé los datos de pedidos para identificar los patrones de pago y determinar el tiempo promedio que transcurre desde la primera compra hasta el primer pago.\n",
    "\n",
    "- **Optimización de los gastos de marketing:** Utilicé las estadísticas de gastos de marketing para evaluar la eficiencia de nuestras inversiones actuales. Identifiqué los canales y tácticas de marketing más efectivos y propuse ajustes en nuestra estrategia para maximizar el retorno de la inversión.\n",
    "\n",
    "- A lo largo de este proyecto, mi objetivo principal fue encontrar oportunidades para optimizar los gastos de marketing y mejorar la rentabilidad de Y.Afisha. Con el análisis detallado de los datos y los hallazgos clave obtenidos, pude proporcionar recomendaciones fundamentadas para el equipo de marketing y contribuir al éxito general de nuestra empresa.\n",
    "\n",
    "Espero que los resultados obtenidos ayuden a mejorar y a implementar estrategias que contribuyan al éxito general de nuestra empresa."
   ]
  }
 ],
 "metadata": {
  "kernelspec": {
   "display_name": "Python 3 (ipykernel)",
   "language": "python",
   "name": "python3"
  },
  "language_info": {
   "codemirror_mode": {
    "name": "ipython",
    "version": 3
   },
   "file_extension": ".py",
   "mimetype": "text/x-python",
   "name": "python",
   "nbconvert_exporter": "python",
   "pygments_lexer": "ipython3",
   "version": "3.9.5"
  },
  "toc": {
   "base_numbering": 1,
   "nav_menu": {},
   "number_sections": true,
   "sideBar": true,
   "skip_h1_title": true,
   "title_cell": "Table of Contents",
   "title_sidebar": "Contents",
   "toc_cell": true,
   "toc_position": {},
   "toc_section_display": true,
   "toc_window_display": false
  }
 },
 "nbformat": 4,
 "nbformat_minor": 2
}
